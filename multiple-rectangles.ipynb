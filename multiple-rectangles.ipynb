{
 "cells": [
  {
   "cell_type": "code",
   "execution_count": 2,
   "metadata": {
    "ExecuteTime": {
     "end_time": "2016-07-11T02:31:23.705000",
     "start_time": "2016-07-11T02:31:23.164000"
    },
    "collapsed": true
   },
   "outputs": [],
   "source": [
    "import numpy as np\n",
    "import matplotlib.pyplot as plt\n",
    "import matplotlib\n",
    "%matplotlib inline"
   ]
  },
  {
   "cell_type": "code",
   "execution_count": 3,
   "metadata": {
    "ExecuteTime": {
     "end_time": "2016-07-11T02:31:26.922000",
     "start_time": "2016-07-11T02:31:24.029000"
    },
    "collapsed": false
   },
   "outputs": [
    {
     "data": {
      "text/plain": [
       "((50000L, 8L, 8L), (50000L, 3L, 4L))"
      ]
     },
     "execution_count": 3,
     "metadata": {},
     "output_type": "execute_result"
    }
   ],
   "source": [
    "num_imgs = 50000\n",
    "\n",
    "img_size = 8\n",
    "min_rect_size = 1\n",
    "max_rect_size = 4\n",
    "num_objects = 3\n",
    "\n",
    "bboxes = np.zeros((num_imgs, num_objects, 4))\n",
    "imgs = np.zeros((num_imgs, img_size, img_size))\n",
    "\n",
    "for i_img in range(num_imgs):\n",
    "    for i_object in range(num_objects):\n",
    "        width, height = np.random.randint(min_rect_size, max_rect_size, size=2)\n",
    "        x = np.random.randint(0, img_size - width)\n",
    "        y = np.random.randint(0, img_size - height)\n",
    "        imgs[i_img, x:x+width, y:y+height] = 1.\n",
    "        bboxes[i_img, i_object] = [x, y, width, height]\n",
    "        \n",
    "        \n",
    "    # Prevent overlap between rectangles.\n",
    "    # Makes results (i.e. mean IOU) slightly worse; probably because the shapes are smaller \n",
    "    # (i.e. they are harder to recognize and capture within a bbox) \n",
    "    # and further apart (i.e. the algorithm can't set all bboxes to the same location to get a good IOU).    \n",
    "#     i_object = 0\n",
    "#     while i_object < num_objects:\n",
    "#         width, height = np.random.randint(min_rect_size, max_rect_size, size=2)\n",
    "#         x = np.random.randint(0, img_size - width)\n",
    "#         y = np.random.randint(0, img_size - height)\n",
    "#         overlap = False        \n",
    "# #         print 'Creating object', i_object, '- checking', len(bboxes[i_img, :i_object]), 'bboxes for overlap',\n",
    "#         for bbox in bboxes[i_img, :i_object]:  # TODO: Check if this includes all bboxes.\n",
    "#             overlap = bool(IOU(bbox, [x-1, y-1, width+2, height+2]))  # at least one free field between objects\n",
    "#             if overlap: \n",
    "# #                 print '--> Found overlap'\n",
    "#                 break\n",
    "#         if not overlap:\n",
    "#             imgs[i_img, x:x+width, y:y+height] = 1.\n",
    "#             bboxes[i_img, i_object] = [x, y, width, height]\n",
    "#             i_object += 1\n",
    "# #             print '--> Found no overlap'\n",
    "# #     print\n",
    "        \n",
    "imgs.shape, bboxes.shape"
   ]
  },
  {
   "cell_type": "code",
   "execution_count": 4,
   "metadata": {
    "ExecuteTime": {
     "end_time": "2016-07-11T02:31:27.836000",
     "start_time": "2016-07-11T02:31:27.576000"
    },
    "collapsed": false
   },
   "outputs": [
    {
     "data": {
      "image/png": "[encoded data removed]",
      "text/plain": [
       "<matplotlib.figure.Figure at 0x759bf98>"
      ]
     },
     "metadata": {},
     "output_type": "display_data"
    }
   ],
   "source": [
    "i = 0\n",
    "plt.imshow(imgs[i].T, cmap='Greys', interpolation='none', origin='lower', extent=[0, img_size, 0, img_size])\n",
    "for bbox in bboxes[i]:\n",
    "    plt.gca().add_patch(matplotlib.patches.Rectangle((bbox[0], bbox[1]), bbox[2], bbox[3], ec='r', fc='none'))"
   ]
  },
  {
   "cell_type": "code",
   "execution_count": 5,
   "metadata": {
    "ExecuteTime": {
     "end_time": "2016-07-11T02:31:29.292000",
     "start_time": "2016-07-11T02:31:29.159000"
    },
    "collapsed": false
   },
   "outputs": [
    {
     "data": {
      "text/plain": [
       "((50000L, 64L), 4.8849813083506891e-19, 1.0000000000000002)"
      ]
     },
     "execution_count": 5,
     "metadata": {},
     "output_type": "execute_result"
    }
   ],
   "source": [
    "X = (imgs.reshape(num_imgs, -1) - np.mean(imgs)) / np.std(imgs)\n",
    "X.shape, np.mean(X), np.std(X)"
   ]
  },
  {
   "cell_type": "code",
   "execution_count": 6,
   "metadata": {
    "ExecuteTime": {
     "end_time": "2016-07-11T02:31:30.073000",
     "start_time": "2016-07-11T02:31:30.064000"
    },
    "collapsed": false
   },
   "outputs": [
    {
     "data": {
      "text/plain": [
       "(50000L, 12L)"
      ]
     },
     "execution_count": 6,
     "metadata": {},
     "output_type": "execute_result"
    }
   ],
   "source": [
    "y = bboxes.reshape(num_imgs, -1) / img_size\n",
    "y.shape"
   ]
  },
  {
   "cell_type": "code",
   "execution_count": 7,
   "metadata": {
    "ExecuteTime": {
     "end_time": "2016-07-11T02:31:31.033000",
     "start_time": "2016-07-11T02:31:31.028000"
    },
    "collapsed": true
   },
   "outputs": [],
   "source": [
    "i = int(0.8 * num_imgs)\n",
    "train_X = X[:i]\n",
    "test_X = X[i:]\n",
    "train_y = y[:i]\n",
    "test_y = y[i:]\n",
    "test_imgs = imgs[i:]\n",
    "test_bboxes = bboxes[i:]"
   ]
  },
  {
   "cell_type": "code",
   "execution_count": 8,
   "metadata": {
    "ExecuteTime": {
     "end_time": "2016-07-11T02:31:38.581000",
     "start_time": "2016-07-11T02:31:32.040000"
    },
    "collapsed": false
   },
   "outputs": [
    {
     "name": "stderr",
     "output_type": "stream",
     "text": [
      "Using Theano backend.\n"
     ]
    }
   ],
   "source": [
    "from keras.models import Sequential\n",
    "from keras.layers import Dense, Activation, Dropout\n",
    "from keras.optimizers import SGD\n",
    "model = Sequential([\n",
    "        Dense(256, input_dim=X.shape[-1]), \n",
    "        Activation('relu'), \n",
    "        Dropout(0.4), \n",
    "        Dense(y.shape[-1])\n",
    "    ])\n",
    "model.compile('adadelta', 'mse')"
   ]
  },
  {
   "cell_type": "code",
   "execution_count": 10,
   "metadata": {
    "ExecuteTime": {
     "end_time": "2016-07-11T02:49:39.783000",
     "start_time": "2016-07-11T02:31:48.430000"
    },
    "code_folding": [
     2,
     17
    ],
    "collapsed": false
   },
   "outputs": [
    {
     "name": "stdout",
     "output_type": "stream",
     "text": [
      "Epoch 0\n",
      "Train on 40000 samples, validate on 10000 samples\n",
      "Epoch 1/1\n",
      "2s - loss: 0.0866 - val_loss: 0.0245\n",
      "Flipped 65.855 % of all elements\n",
      "Mean IOU: 0.132461820317\n",
      "Mean dist: 0.231913900583\n",
      "Mean mse: 0.0215878985146\n",
      "\n",
      "Epoch 1\n",
      "Train on 40000 samples, validate on 10000 samples\n",
      "Epoch 1/1\n",
      "2s - loss: 0.0231 - val_loss: 0.0238\n",
      "Flipped 34.025 % of all elements\n",
      "Mean IOU: 0.150481370741\n",
      "Mean dist: 0.217070926166\n",
      "Mean mse: 0.0192820626975\n",
      "\n",
      "Epoch 2\n",
      "Train on 40000 samples, validate on 10000 samples\n",
      "Epoch 1/1\n",
      "2s - loss: 0.0201 - val_loss: 0.0251\n",
      "Flipped 25.3166666667 % of all elements\n",
      "Mean IOU: 0.186506946858\n",
      "Mean dist: 0.193612210226\n",
      "Mean mse: 0.0165723888758\n",
      "\n",
      "Epoch 3\n",
      "Train on 40000 samples, validate on 10000 samples\n",
      "Epoch 1/1\n",
      "2s - loss: 0.0176 - val_loss: 0.0273\n",
      "Flipped 19.0266666667 % of all elements\n",
      "Mean IOU: 0.229205227308\n",
      "Mean dist: 0.171791710465\n",
      "Mean mse: 0.0142965778992\n",
      "\n",
      "Epoch 4\n",
      "Train on 40000 samples, validate on 10000 samples\n",
      "Epoch 1/1\n",
      "2s - loss: 0.0157 - val_loss: 0.0286\n",
      "Flipped 12.25 % of all elements\n",
      "Mean IOU: 0.254165113817\n",
      "Mean dist: 0.159449935378\n",
      "Mean mse: 0.0129885621856\n",
      "\n",
      "Epoch 5\n",
      "Train on 40000 samples, validate on 10000 samples\n",
      "Epoch 1/1\n",
      "2s - loss: 0.0146 - val_loss: 0.0292\n",
      "Flipped 9.37833333333 % of all elements\n",
      "Mean IOU: 0.275962168732\n",
      "Mean dist: 0.150136571577\n",
      "Mean mse: 0.0120152972037\n",
      "\n",
      "Epoch 6\n",
      "Train on 40000 samples, validate on 10000 samples\n",
      "Epoch 1/1\n",
      "2s - loss: 0.0138 - val_loss: 0.0296\n",
      "Flipped 7.45416666667 % of all elements\n",
      "Mean IOU: 0.289729962462\n",
      "Mean dist: 0.143686297112\n",
      "Mean mse: 0.0113528223482\n",
      "\n",
      "Epoch 7\n",
      "Train on 40000 samples, validate on 10000 samples\n",
      "Epoch 1/1\n",
      "2s - loss: 0.0131 - val_loss: 0.0303\n",
      "Flipped 6.405 % of all elements\n",
      "Mean IOU: 0.303117180378\n",
      "Mean dist: 0.137789827337\n",
      "Mean mse: 0.0107846302155\n",
      "\n",
      "Epoch 8\n",
      "Train on 40000 samples, validate on 10000 samples\n",
      "Epoch 1/1\n",
      "2s - loss: 0.0127 - val_loss: 0.0302\n",
      "Flipped 5.86 % of all elements\n",
      "Mean IOU: 0.31079770748\n",
      "Mean dist: 0.134372677222\n",
      "Mean mse: 0.0103704550109\n",
      "\n",
      "Epoch 9\n",
      "Train on 40000 samples, validate on 10000 samples\n",
      "Epoch 1/1\n",
      "2s - loss: 0.0122 - val_loss: 0.0309\n",
      "Flipped 5.50583333333 % of all elements\n",
      "Mean IOU: 0.322171889577\n",
      "Mean dist: 0.129881629799\n",
      "Mean mse: 0.0099642509257\n",
      "\n",
      "Epoch 10\n",
      "Train on 40000 samples, validate on 10000 samples\n",
      "Epoch 1/1\n",
      "2s - loss: 0.0119 - val_loss: 0.0311\n",
      "Flipped 4.87583333333 % of all elements\n",
      "Mean IOU: 0.329181492757\n",
      "Mean dist: 0.127271776721\n",
      "Mean mse: 0.00964884362597\n",
      "\n",
      "Epoch 11\n",
      "Train on 40000 samples, validate on 10000 samples\n",
      "Epoch 1/1\n",
      "2s - loss: 0.0116 - val_loss: 0.0312\n",
      "Flipped 4.84333333333 % of all elements\n",
      "Mean IOU: 0.335827488776\n",
      "Mean dist: 0.124212681314\n",
      "Mean mse: 0.00934633646606\n",
      "\n",
      "Epoch 12\n",
      "Train on 40000 samples, validate on 10000 samples\n",
      "Epoch 1/1\n",
      "2s - loss: 0.0113 - val_loss: 0.0313\n",
      "Flipped 4.36583333333 % of all elements\n",
      "Mean IOU: 0.342465824678\n",
      "Mean dist: 0.121495686817\n",
      "Mean mse: 0.00905107642108\n",
      "\n",
      "Epoch 13\n",
      "Train on 40000 samples, validate on 10000 samples\n",
      "Epoch 1/1\n",
      "2s - loss: 0.0111 - val_loss: 0.0312\n",
      "Flipped 3.935 % of all elements\n",
      "Mean IOU: 0.345173104879\n",
      "Mean dist: 0.119905279937\n",
      "Mean mse: 0.00885077815354\n",
      "\n",
      "Epoch 14\n",
      "Train on 40000 samples, validate on 10000 samples\n",
      "Epoch 1/1\n",
      "2s - loss: 0.0109 - val_loss: 0.0314\n",
      "Flipped 3.79583333333 % of all elements\n",
      "Mean IOU: 0.353772143711\n",
      "Mean dist: 0.117217271799\n",
      "Mean mse: 0.00860863516413\n",
      "\n",
      "Epoch 15\n",
      "Train on 40000 samples, validate on 10000 samples\n",
      "Epoch 1/1\n",
      "2s - loss: 0.0106 - val_loss: 0.0314\n",
      "Flipped 3.6225 % of all elements\n",
      "Mean IOU: 0.356139135119\n",
      "Mean dist: 0.115841729945\n",
      "Mean mse: 0.00843889112026\n",
      "\n",
      "Epoch 16\n",
      "Train on 40000 samples, validate on 10000 samples\n",
      "Epoch 1/1\n",
      "2s - loss: 0.0105 - val_loss: 0.0318\n",
      "Flipped 3.63333333333 % of all elements\n",
      "Mean IOU: 0.362196710225\n",
      "Mean dist: 0.113977171787\n",
      "Mean mse: 0.00824554206167\n",
      "\n",
      "Epoch 17\n",
      "Train on 40000 samples, validate on 10000 samples\n",
      "Epoch 1/1\n",
      "2s - loss: 0.0103 - val_loss: 0.0318\n",
      "Flipped 3.0325 % of all elements\n",
      "Mean IOU: 0.3645361806\n",
      "Mean dist: 0.112971440364\n",
      "Mean mse: 0.00811978970344\n",
      "\n",
      "Epoch 18\n",
      "Train on 40000 samples, validate on 10000 samples\n",
      "Epoch 1/1\n",
      "2s - loss: 0.0102 - val_loss: 0.0320\n",
      "Flipped 3.35 % of all elements\n",
      "Mean IOU: 0.368902931532\n",
      "Mean dist: 0.111346367841\n",
      "Mean mse: 0.0079878372689\n",
      "\n",
      "Epoch 19\n",
      "Train on 40000 samples, validate on 10000 samples\n",
      "Epoch 1/1\n",
      "2s - loss: 0.0101 - val_loss: 0.0319\n",
      "Flipped 3.34 % of all elements\n",
      "Mean IOU: 0.37178507275\n",
      "Mean dist: 0.109925694281\n",
      "Mean mse: 0.00784679623512\n",
      "\n",
      "Epoch 20\n",
      "Train on 40000 samples, validate on 10000 samples\n",
      "Epoch 1/1\n",
      "2s - loss: 0.0099 - val_loss: 0.0320\n",
      "Flipped 3.275 % of all elements\n",
      "Mean IOU: 0.374334554438\n",
      "Mean dist: 0.109261254548\n",
      "Mean mse: 0.00777803286095\n",
      "\n",
      "Epoch 21\n",
      "Train on 40000 samples, validate on 10000 samples\n",
      "Epoch 1/1\n",
      "2s - loss: 0.0099 - val_loss: 0.0321\n",
      "Flipped 3.11166666667 % of all elements\n",
      "Mean IOU: 0.375755354454\n",
      "Mean dist: 0.108772271417\n",
      "Mean mse: 0.00768379051524\n",
      "\n",
      "Epoch 22\n",
      "Train on 40000 samples, validate on 10000 samples\n",
      "Epoch 1/1\n",
      "2s - loss: 0.0098 - val_loss: 0.0318\n",
      "Flipped 2.82 % of all elements\n",
      "Mean IOU: 0.375104486639\n",
      "Mean dist: 0.108117571671\n",
      "Mean mse: 0.00761972946442\n",
      "\n",
      "Epoch 23\n",
      "Train on 40000 samples, validate on 10000 samples\n",
      "Epoch 1/1\n",
      "2s - loss: 0.0097 - val_loss: 0.0322\n",
      "Flipped 2.84416666667 % of all elements\n",
      "Mean IOU: 0.38249765076\n",
      "Mean dist: 0.106568802747\n",
      "Mean mse: 0.0074875522475\n",
      "\n",
      "Epoch 24\n",
      "Train on 40000 samples, validate on 10000 samples\n",
      "Epoch 1/1\n",
      "2s - loss: 0.0097 - val_loss: 0.0323\n",
      "Flipped 2.76166666667 % of all elements\n",
      "Mean IOU: 0.384270152949\n",
      "Mean dist: 0.105546078306\n",
      "Mean mse: 0.00740746175872\n",
      "\n",
      "Epoch 25\n",
      "Train on 40000 samples, validate on 10000 samples\n",
      "Epoch 1/1\n",
      "2s - loss: 0.0096 - val_loss: 0.0321\n",
      "Flipped 2.6525 % of all elements\n",
      "Mean IOU: 0.384989851392\n",
      "Mean dist: 0.105259973708\n",
      "Mean mse: 0.00737142057346\n",
      "\n",
      "Epoch 26\n",
      "Train on 40000 samples, validate on 10000 samples\n",
      "Epoch 1/1\n",
      "2s - loss: 0.0095 - val_loss: 0.0322\n",
      "Flipped 2.735 % of all elements\n",
      "Mean IOU: 0.386006757694\n",
      "Mean dist: 0.104785295641\n",
      "Mean mse: 0.00730480348125\n",
      "\n",
      "Epoch 27\n",
      "Train on 40000 samples, validate on 10000 samples\n",
      "Epoch 1/1\n",
      "2s - loss: 0.0095 - val_loss: 0.0325\n",
      "Flipped 2.905 % of all elements\n",
      "Mean IOU: 0.390872786059\n",
      "Mean dist: 0.104233661887\n",
      "Mean mse: 0.00725643671926\n",
      "\n",
      "Epoch 28\n",
      "Train on 40000 samples, validate on 10000 samples\n",
      "Epoch 1/1\n",
      "2s - loss: 0.0094 - val_loss: 0.0326\n",
      "Flipped 2.96083333333 % of all elements\n",
      "Mean IOU: 0.390284422156\n",
      "Mean dist: 0.103534450824\n",
      "Mean mse: 0.00719094701272\n",
      "\n",
      "Epoch 29\n",
      "Train on 40000 samples, validate on 10000 samples\n",
      "Epoch 1/1\n",
      "2s - loss: 0.0094 - val_loss: 0.0325\n",
      "Flipped 2.83416666667 % of all elements\n",
      "Mean IOU: 0.393472719944\n",
      "Mean dist: 0.103066038216\n",
      "Mean mse: 0.00711752687992\n",
      "\n",
      "Epoch 30\n",
      "Train on 40000 samples, validate on 10000 samples\n",
      "Epoch 1/1\n",
      "2s - loss: 0.0093 - val_loss: 0.0327\n",
      "Flipped 2.8725 % of all elements\n",
      "Mean IOU: 0.395203153076\n",
      "Mean dist: 0.102387130608\n",
      "Mean mse: 0.00707564675195\n",
      "\n",
      "Epoch 31\n",
      "Train on 40000 samples, validate on 10000 samples\n",
      "Epoch 1/1\n",
      "2s - loss: 0.0092 - val_loss: 0.0325\n",
      "Flipped 2.835 % of all elements\n",
      "Mean IOU: 0.397213390699\n",
      "Mean dist: 0.10182798213\n",
      "Mean mse: 0.00703195041112\n",
      "\n",
      "Epoch 32\n",
      "Train on 40000 samples, validate on 10000 samples\n",
      "Epoch 1/1\n",
      "2s - loss: 0.0092 - val_loss: 0.0325\n",
      "Flipped 2.55 % of all elements\n",
      "Mean IOU: 0.400643317245\n",
      "Mean dist: 0.101161168722\n",
      "Mean mse: 0.00697616506101\n",
      "\n",
      "Epoch 33\n",
      "Train on 40000 samples, validate on 10000 samples\n",
      "Epoch 1/1\n",
      "2s - loss: 0.0091 - val_loss: 0.0327\n",
      "Flipped 2.53666666667 % of all elements\n",
      "Mean IOU: 0.400765350053\n",
      "Mean dist: 0.100619738294\n",
      "Mean mse: 0.0069208690877\n",
      "\n",
      "Epoch 34\n",
      "Train on 40000 samples, validate on 10000 samples\n",
      "Epoch 1/1\n",
      "2s - loss: 0.0091 - val_loss: 0.0325\n",
      "Flipped 2.5175 % of all elements\n",
      "Mean IOU: 0.40060261854\n",
      "Mean dist: 0.100895729201\n",
      "Mean mse: 0.00692658306849\n",
      "\n",
      "Epoch 35\n",
      "Train on 40000 samples, validate on 10000 samples\n",
      "Epoch 1/1\n",
      "2s - loss: 0.0091 - val_loss: 0.0325\n",
      "Flipped 2.57166666667 % of all elements\n",
      "Mean IOU: 0.39902782318\n",
      "Mean dist: 0.100378804353\n",
      "Mean mse: 0.00688041141176\n",
      "\n",
      "Epoch 36\n",
      "Train on 40000 samples, validate on 10000 samples\n",
      "Epoch 1/1\n",
      "2s - loss: 0.0090 - val_loss: 0.0324\n",
      "Flipped 2.72916666667 % of all elements\n",
      "Mean IOU: 0.399904514085\n",
      "Mean dist: 0.100525918709\n",
      "Mean mse: 0.00687954671208\n",
      "\n",
      "Epoch 37\n",
      "Train on 40000 samples, validate on 10000 samples\n",
      "Epoch 1/1\n",
      "2s - loss: 0.0090 - val_loss: 0.0326\n",
      "Flipped 2.55416666667 % of all elements\n",
      "Mean IOU: 0.404934890938\n",
      "Mean dist: 0.0991886116917\n",
      "Mean mse: 0.00678688161954\n",
      "\n",
      "Epoch 38\n",
      "Train on 40000 samples, validate on 10000 samples\n",
      "Epoch 1/1\n",
      "2s - loss: 0.0090 - val_loss: 0.0326\n",
      "Flipped 2.50416666667 % of all elements\n",
      "Mean IOU: 0.402472642102\n",
      "Mean dist: 0.0997697177019\n",
      "Mean mse: 0.00680914010245\n",
      "\n",
      "Epoch 39\n",
      "Train on 40000 samples, validate on 10000 samples\n",
      "Epoch 1/1\n",
      "2s - loss: 0.0090 - val_loss: 0.0325\n",
      "Flipped 2.44833333333 % of all elements\n",
      "Mean IOU: 0.40197228827\n",
      "Mean dist: 0.0992986498558\n",
      "Mean mse: 0.00676366787696\n",
      "\n",
      "Epoch 40\n",
      "Train on 40000 samples, validate on 10000 samples\n",
      "Epoch 1/1\n",
      "2s - loss: 0.0089 - val_loss: 0.0327\n",
      "Flipped 2.51666666667 % of all elements\n",
      "Mean IOU: 0.4054858615\n",
      "Mean dist: 0.0985546213403\n",
      "Mean mse: 0.00672008755158\n",
      "\n",
      "Epoch 41\n",
      "Train on 40000 samples, validate on 10000 samples\n",
      "Epoch 1/1\n",
      "6s - loss: 0.0089 - val_loss: 0.0329\n",
      "Flipped 2.65 % of all elements\n",
      "Mean IOU: 0.406429030963\n",
      "Mean dist: 0.0979248777965\n",
      "Mean mse: 0.00666725132437\n",
      "\n",
      "Epoch 42\n",
      "Train on 40000 samples, validate on 10000 samples\n",
      "Epoch 1/1\n",
      "6s - loss: 0.0088 - val_loss: 0.0327\n",
      "Flipped 2.5075 % of all elements\n",
      "Mean IOU: 0.409726833946\n",
      "Mean dist: 0.0976724443448\n",
      "Mean mse: 0.00663231498388\n",
      "\n",
      "Epoch 43\n",
      "Train on 40000 samples, validate on 10000 samples\n",
      "Epoch 1/1\n",
      "6s - loss: 0.0088 - val_loss: 0.0327\n",
      "Flipped 2.63416666667 % of all elements\n",
      "Mean IOU: 0.407339620479\n",
      "Mean dist: 0.0976801206413\n",
      "Mean mse: 0.00665000738172\n",
      "\n",
      "Epoch 44\n",
      "Train on 40000 samples, validate on 10000 samples\n",
      "Epoch 1/1\n",
      "9s - loss: 0.0088 - val_loss: 0.0328\n",
      "Flipped 2.40916666667 % of all elements\n",
      "Mean IOU: 0.408052970002\n",
      "Mean dist: 0.0977282885998\n",
      "Mean mse: 0.00663271793058\n",
      "\n",
      "Epoch 45\n",
      "Train on 40000 samples, validate on 10000 samples\n",
      "Epoch 1/1\n",
      "6s - loss: 0.0088 - val_loss: 0.0327\n",
      "Flipped 2.51416666667 % of all elements\n",
      "Mean IOU: 0.410803439063\n",
      "Mean dist: 0.0971774425186\n",
      "Mean mse: 0.00657374215001\n",
      "\n",
      "Epoch 46\n",
      "Train on 40000 samples, validate on 10000 samples\n",
      "Epoch 1/1\n",
      "6s - loss: 0.0088 - val_loss: 0.0327\n",
      "Flipped 2.4425 % of all elements\n",
      "Mean IOU: 0.409305512569\n",
      "Mean dist: 0.097182728018\n",
      "Mean mse: 0.00656134501249\n",
      "\n",
      "Epoch 47\n",
      "Train on 40000 samples, validate on 10000 samples\n",
      "Epoch 1/1\n",
      "6s - loss: 0.0087 - val_loss: 0.0329\n",
      "Flipped 2.485 % of all elements\n",
      "Mean IOU: 0.411896049599\n",
      "Mean dist: 0.0963696082076\n",
      "Mean mse: 0.00652188173433\n",
      "\n",
      "Epoch 48\n",
      "Train on 40000 samples, validate on 10000 samples\n",
      "Epoch 1/1\n",
      "6s - loss: 0.0087 - val_loss: 0.0328\n",
      "Flipped 2.34 % of all elements\n",
      "Mean IOU: 0.411688699092\n",
      "Mean dist: 0.0964747907714\n",
      "Mean mse: 0.00650162604176\n",
      "\n",
      "Epoch 49\n",
      "Train on 40000 samples, validate on 10000 samples\n",
      "Epoch 1/1\n",
      "6s - loss: 0.0087 - val_loss: 0.0328\n",
      "Flipped 2.57833333333 % of all elements\n",
      "Mean IOU: 0.411528881964\n",
      "Mean dist: 0.096555074057\n",
      "Mean mse: 0.00649752850192\n",
      "\n"
     ]
    }
   ],
   "source": [
    "# Flip bboxes during training.\n",
    "# Note: The validation loss is always quite big here because we don't flip the bounding boxes for the validation data. \n",
    "def IOU(bbox1, bbox2):\n",
    "    '''Calculate overlap between two bounding boxes [x, y, w, h] as the area of intersection over the area of unity'''\n",
    "    x1, y1, w1, h1 = bbox1[0], bbox1[1], bbox1[2], bbox1[3]  # TODO: Check if its more performant if tensor elements are accessed directly below.\n",
    "    x2, y2, w2, h2 = bbox2[0], bbox2[1], bbox2[2], bbox2[3]\n",
    "\n",
    "    w_I = min(x1 + w1, x2 + w2) - max(x1, x2)\n",
    "    h_I = min(y1 + h1, y2 + h2) - max(y1, y2)\n",
    "    if w_I <= 0 or h_I <= 0:  # no overlap\n",
    "        return 0\n",
    "    I = w_I * h_I\n",
    "\n",
    "    U = w1 * h1 + w2 * h2 - I\n",
    "\n",
    "    return I / U\n",
    "\n",
    "def distance(bbox1, bbox2):\n",
    "    return np.sqrt(np.sum(np.square(bbox1[:2] - bbox2[:2])))\n",
    "\n",
    "num_epochs = 50\n",
    "flipped_train_y = np.array(train_y)\n",
    "flipped = np.zeros((len(flipped_train_y), num_epochs))\n",
    "ious_epoch = np.zeros((len(flipped_train_y), num_epochs))\n",
    "dists_epoch = np.zeros((len(flipped_train_y), num_epochs))\n",
    "mses_epoch = np.zeros((len(flipped_train_y), num_epochs))\n",
    "\n",
    "for epoch in range(num_epochs):\n",
    "    print 'Epoch', epoch\n",
    "    model.fit(train_X, flipped_train_y, nb_epoch=1, validation_data=(test_X, test_y), verbose=2)\n",
    "    pred_y = model.predict(train_X)\n",
    "\n",
    "    for sample, (pred_bboxes, exp_bboxes) in enumerate(zip(pred_y, flipped_train_y)):\n",
    "        \n",
    "        pred_bboxes = pred_bboxes.reshape(num_objects, -1)\n",
    "        exp_bboxes = exp_bboxes.reshape(num_objects, -1)\n",
    "\n",
    "        ious = np.zeros((num_objects, num_objects))\n",
    "        dists = np.zeros((num_objects, num_objects))\n",
    "        mses = np.zeros((num_objects, num_objects))\n",
    "        for i, exp_bbox in enumerate(exp_bboxes):\n",
    "            for j, pred_bbox in enumerate(pred_bboxes):\n",
    "                ious[i, j] = IOU(exp_bbox, pred_bbox)\n",
    "                dists[i, j] = distance(exp_bbox, pred_bbox)\n",
    "                mses[i, j] = np.mean(np.square(exp_bbox - pred_bbox))\n",
    "                \n",
    "        new_order = np.zeros(num_objects, dtype=int)\n",
    "        \n",
    "        for i in range(num_objects):\n",
    "            # Find pred and exp bbox with minimum mse and assign them to each other (i.e. switch the positions of the exp bboxes in y).\n",
    "            ind_exp_bbox, ind_pred_bbox = np.unravel_index(mses.argmin(), mses.shape)\n",
    "            ious_epoch[sample, epoch] += ious[ind_exp_bbox, ind_pred_bbox]\n",
    "            dists_epoch[sample, epoch] += dists[ind_exp_bbox, ind_pred_bbox]\n",
    "            mses_epoch[sample, epoch] += mses[ind_exp_bbox, ind_pred_bbox]\n",
    "            mses[ind_exp_bbox] = 10000000#-1  # set mse of assigned bboxes to a large number, so they don't get assigned again\n",
    "            mses[:, ind_pred_bbox] = 10000000#-1\n",
    "            new_order[ind_pred_bbox] = ind_exp_bbox\n",
    "        \n",
    "        # Write flipped bboxes to training data.\n",
    "        flipped_train_y[sample] = exp_bboxes[new_order].flatten()\n",
    "        \n",
    "        flipped[sample, epoch] = 1. - np.mean(new_order == np.arange(num_objects, dtype=int))#np.array_equal(new_order, np.arange(num_objects, dtype=int))  # TODO: Change this to reflect the number of flips.\n",
    "        ious_epoch[sample, epoch] /= num_objects\n",
    "        dists_epoch[sample, epoch] /= num_objects\n",
    "        mses_epoch[sample, epoch] /= num_objects\n",
    "        \n",
    "            \n",
    "    print 'Flipped {} % of all elements'.format(np.mean(flipped[:, epoch]) * 100.)\n",
    "    print 'Mean IOU: {}'.format(np.mean(ious_epoch[:, epoch]))\n",
    "    print 'Mean dist: {}'.format(np.mean(dists_epoch[:, epoch]))\n",
    "    print 'Mean mse: {}'.format(np.mean(mses_epoch[:, epoch]))\n",
    "    print\n"
   ]
  },
  {
   "cell_type": "code",
   "execution_count": 25,
   "metadata": {
    "ExecuteTime": {
     "end_time": "2016-07-03T16:51:28.611000",
     "start_time": "2016-07-03T16:51:25.540000"
    },
    "collapsed": false
   },
   "outputs": [
    {
     "data": {
      "text/plain": [
       "<matplotlib.text.Text at 0x26a47a58>"
      ]
     },
     "execution_count": 25,
     "metadata": {},
     "output_type": "execute_result"
    },
    {
     "data": {
      "image/png": "[encoded data removed]",
      "text/plain": [
       "<matplotlib.figure.Figure at 0x14178a58>"
      ]
     },
     "metadata": {},
     "output_type": "display_data"
    }
   ],
   "source": [
    "# Show flippings for a few training samples.\n",
    "plt.pcolor(flipped[:300], cmap='Greys', vmax=1.)\n",
    "plt.xlabel('Epoch')\n",
    "plt.ylabel('Training sample')"
   ]
  },
  {
   "cell_type": "code",
   "execution_count": 26,
   "metadata": {
    "ExecuteTime": {
     "end_time": "2016-07-03T16:51:37.618000",
     "start_time": "2016-07-03T16:51:37.062000"
    },
    "collapsed": false
   },
   "outputs": [
    {
     "data": {
      "image/png": "[encoded data removed]",
      "text/plain": [
       "<matplotlib.figure.Figure at 0x25954898>"
      ]
     },
     "metadata": {},
     "output_type": "display_data"
    }
   ],
   "source": [
    "# Plot metrics on the training data. \n",
    "mean_ious_epoch = np.mean(ious_epoch, axis=0)\n",
    "mean_dists_epoch = np.mean(dists_epoch, axis=0)\n",
    "mean_mses_epoch = np.mean(mses_epoch, axis=0)\n",
    "plt.plot(mean_ious_epoch, label='Mean IOU')  # between predicted and assigned true bboxes\n",
    "plt.plot(mean_dists_epoch, label='Mean distance')  # relative to image size\n",
    "plt.plot(mean_mses_epoch, label='Mean mse')\n",
    "plt.annotate(np.round(np.max(mean_ious_epoch), 3), (len(mean_ious_epoch)-1, mean_ious_epoch[-1]+0.03), horizontalalignment='right', color='b')\n",
    "plt.annotate(np.round(np.min(mean_dists_epoch), 3), (len(mean_dists_epoch)-1, mean_dists_epoch[-1]+0.03), horizontalalignment='right', color='g')\n",
    "plt.annotate(np.round(np.min(mean_mses_epoch), 3), (len(mean_mses_epoch)-1, mean_mses_epoch[-1]+0.03), horizontalalignment='right', color='r')\n",
    "plt.xlabel('Epoch')\n",
    "plt.legend()\n",
    "plt.ylim(0, 1)\n",
    "\n",
    "# plt.savefig('plots/bw-three-rectangles-50k.png', dpi=300)"
   ]
  },
  {
   "cell_type": "code",
   "execution_count": 13,
   "metadata": {
    "ExecuteTime": {
     "end_time": "2016-07-03T16:34:24.949000",
     "start_time": "2016-07-03T16:34:24.511000"
    },
    "collapsed": false
   },
   "outputs": [
    {
     "data": {
      "text/plain": [
       "(20000L, 3L, 4L)"
      ]
     },
     "execution_count": 13,
     "metadata": {},
     "output_type": "execute_result"
    }
   ],
   "source": [
    "pred_y = model.predict(test_X)\n",
    "pred_bboxes = pred_y * img_size\n",
    "pred_bboxes = pred_bboxes.reshape(len(pred_bboxes), num_objects, -1)\n",
    "pred_bboxes.shape"
   ]
  },
  {
   "cell_type": "code",
   "execution_count": 17,
   "metadata": {
    "ExecuteTime": {
     "end_time": "2016-07-03T16:34:55.948000",
     "start_time": "2016-07-03T16:34:54.428000"
    },
    "collapsed": false
   },
   "outputs": [
    {
     "data": {
      "image/png": "[encoded data removed]",
      "text/plain": [
       "<matplotlib.figure.Figure at 0x268f7908>"
      ]
     },
     "metadata": {},
     "output_type": "display_data"
    }
   ],
   "source": [
    "plt.figure(figsize=(12, 3))\n",
    "for i_subplot in range(1, 5):\n",
    "    plt.subplot(1, 4, i_subplot)\n",
    "    i = np.random.randint(len(test_X))\n",
    "    plt.imshow(test_imgs[i].T, cmap='Greys', interpolation='none', origin='lower', extent=[0, img_size, 0, img_size])\n",
    "    for pred_bbox, exp_bbox in zip(pred_bboxes[i], test_bboxes[i]):\n",
    "        plt.gca().add_patch(matplotlib.patches.Rectangle((pred_bbox[0], pred_bbox[1]), pred_bbox[2], pred_bbox[3], ec='r', fc='none'))\n",
    "        # TODO: Calculate max IOU with all expected bounding boxes.\n",
    "#         plt.annotate('IOU: {:.2f}'.format(IOU(pred_bbox, exp_bbox)), (pred_bbox[0], pred_bbox[1]+pred_bbox[3]+0.4), color='r')"
   ]
  },
  {
   "cell_type": "code",
   "execution_count": null,
   "metadata": {
    "collapsed": true
   },
   "outputs": [],
   "source": []
  }
 ],
 "metadata": {
  "kernelspec": {
   "display_name": "Python 2",
   "language": "python",
   "name": "python2"
  },
  "language_info": {
   "codemirror_mode": {
    "name": "ipython",
    "version": 2
   },
   "file_extension": ".py",
   "mimetype": "text/x-python",
   "name": "python",
   "nbconvert_exporter": "python",
   "pygments_lexer": "ipython2",
   "version": "2.7.11"
  }
 },
 "nbformat": 4,
 "nbformat_minor": 0
}
