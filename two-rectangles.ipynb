{
 "cells": [
  {
   "cell_type": "code",
   "execution_count": 2,
   "metadata": {
    "ExecuteTime": {
     "end_time": "2016-07-08T02:22:17.466000",
     "start_time": "2016-07-08T02:22:17.460000"
    },
    "collapsed": true
   },
   "outputs": [],
   "source": [
    "import numpy as np\n",
    "import matplotlib.pyplot as plt\n",
    "import matplotlib\n",
    "%matplotlib inline"
   ]
  },
  {
   "cell_type": "code",
   "execution_count": 3,
   "metadata": {
    "ExecuteTime": {
     "end_time": "2016-07-08T02:22:20.062000",
     "start_time": "2016-07-08T02:22:17.976000"
    },
    "collapsed": false
   },
   "outputs": [
    {
     "data": {
      "text/plain": [
       "((50000L, 8L, 8L), (50000L, 2L, 4L))"
      ]
     },
     "execution_count": 3,
     "metadata": {},
     "output_type": "execute_result"
    }
   ],
   "source": [
    "# Create images with random rectangles and bounding boxes. \n",
    "num_imgs = 50000\n",
    "\n",
    "img_size = 8\n",
    "min_rect_size = 1\n",
    "max_rect_size = 4\n",
    "num_objects = 2\n",
    "\n",
    "bboxes = np.zeros((num_imgs, num_objects, 4))\n",
    "imgs = np.zeros((num_imgs, img_size, img_size))\n",
    "\n",
    "for i_img in range(num_imgs):\n",
    "    for i_object in range(num_objects):\n",
    "        w, h = np.random.randint(min_rect_size, max_rect_size, size=2)\n",
    "        x = np.random.randint(0, img_size - w)\n",
    "        y = np.random.randint(0, img_size - h)\n",
    "        imgs[i_img, x:x+w, y:y+h] = 1.\n",
    "        bboxes[i_img, i_object] = [x, y, w, h]\n",
    "        \n",
    "imgs.shape, bboxes.shape"
   ]
  },
  {
   "cell_type": "code",
   "execution_count": 4,
   "metadata": {
    "ExecuteTime": {
     "end_time": "2016-07-08T02:22:23.851000",
     "start_time": "2016-07-08T02:22:23.599000"
    },
    "collapsed": false
   },
   "outputs": [
    {
     "data": {
      "image/png": "[encoded data removed]",
      "text/plain": [
       "<matplotlib.figure.Figure at 0x44efa20>"
      ]
     },
     "metadata": {},
     "output_type": "display_data"
    }
   ],
   "source": [
    "i = 0\n",
    "plt.imshow(imgs[i].T, cmap='Greys', interpolation='none', origin='lower', extent=[0, img_size, 0, img_size])\n",
    "for bbox in bboxes[i]:\n",
    "    plt.gca().add_patch(matplotlib.patches.Rectangle((bbox[0], bbox[1]), bbox[2], bbox[3], ec='r', fc='none'))"
   ]
  },
  {
   "cell_type": "code",
   "execution_count": 5,
   "metadata": {
    "ExecuteTime": {
     "end_time": "2016-07-08T02:23:09.791000",
     "start_time": "2016-07-08T02:23:09.657000"
    },
    "collapsed": false
   },
   "outputs": [
    {
     "data": {
      "text/plain": [
       "((50000L, 64L), 3.1477043194172438e-17, 1.0000000000000004)"
      ]
     },
     "execution_count": 5,
     "metadata": {},
     "output_type": "execute_result"
    }
   ],
   "source": [
    "# Reshape and normalize the data to mean 0 and std 1. \n",
    "X = (imgs.reshape(num_imgs, -1) - np.mean(imgs)) / np.std(imgs)\n",
    "X.shape, np.mean(X), np.std(X)"
   ]
  },
  {
   "cell_type": "code",
   "execution_count": 6,
   "metadata": {
    "ExecuteTime": {
     "end_time": "2016-07-08T02:23:21.661000",
     "start_time": "2016-07-08T02:23:21.646000"
    },
    "collapsed": false
   },
   "outputs": [
    {
     "data": {
      "text/plain": [
       "((50000L, 8L), 0.28096500000000002, 0.17486042655500986)"
      ]
     },
     "execution_count": 6,
     "metadata": {},
     "output_type": "execute_result"
    }
   ],
   "source": [
    "# Normalize x, y, w, h by img_size, so that all values are between 0 and 1.\n",
    "# Important: Do not shift to negative values (e.g. by setting to mean 0), because the IOU calculation needs positive w and h.\n",
    "y = bboxes.reshape(num_imgs, -1) / img_size\n",
    "y.shape, np.mean(y), np.std(y)"
   ]
  },
  {
   "cell_type": "code",
   "execution_count": 7,
   "metadata": {
    "ExecuteTime": {
     "end_time": "2016-07-08T02:23:45.972000",
     "start_time": "2016-07-08T02:23:45.966000"
    },
    "collapsed": true
   },
   "outputs": [],
   "source": [
    "# Split training and test.\n",
    "i = int(0.8 * num_imgs)\n",
    "train_X = X[:i]\n",
    "test_X = X[i:]\n",
    "train_y = y[:i]\n",
    "test_y = y[i:]\n",
    "test_imgs = imgs[i:]\n",
    "test_bboxes = bboxes[i:]"
   ]
  },
  {
   "cell_type": "code",
   "execution_count": 8,
   "metadata": {
    "ExecuteTime": {
     "end_time": "2016-07-08T02:23:51.640000",
     "start_time": "2016-07-08T02:23:46.869000"
    },
    "collapsed": false
   },
   "outputs": [
    {
     "name": "stderr",
     "output_type": "stream",
     "text": [
      "Using Theano backend.\n"
     ]
    }
   ],
   "source": [
    "# Build the model.\n",
    "from keras.models import Sequential\n",
    "from keras.layers import Dense, Activation, Dropout\n",
    "from keras.optimizers import SGD\n",
    "model = Sequential([\n",
    "        Dense(256, input_dim=X.shape[-1]), \n",
    "        Activation('relu'), \n",
    "        Dropout(0.4), \n",
    "        Dense(y.shape[-1])\n",
    "    ])\n",
    "model.compile('adadelta', 'mse')"
   ]
  },
  {
   "cell_type": "code",
   "execution_count": 9,
   "metadata": {
    "ExecuteTime": {
     "end_time": "2016-07-08T02:33:22.619000",
     "start_time": "2016-07-08T02:27:43.964000"
    },
    "code_folding": [
     3,
     18
    ],
    "collapsed": false,
    "scrolled": true
   },
   "outputs": [
    {
     "name": "stdout",
     "output_type": "stream",
     "text": [
      "Epoch 0\n",
      "Train on 40000 samples, validate on 10000 samples\n",
      "Epoch 1/1\n",
      "2s - loss: 0.0891 - val_loss: 0.0198\n",
      "Flipped 19332.0 training samples (48.33 %)\n",
      "Mean IOU: 0.17421432926\n",
      "Mean dist: 0.202194946413\n",
      "Mean mse: 0.00870554196174\n",
      "\n",
      "Epoch 1\n",
      "Train on 40000 samples, validate on 10000 samples\n",
      "Epoch 1/1\n",
      "2s - loss: 0.0188 - val_loss: 0.0188\n",
      "Flipped 7403.0 training samples (18.5075 %)\n",
      "Mean IOU: 0.201610919572\n",
      "Mean dist: 0.179289382942\n",
      "Mean mse: 0.00696734712723\n",
      "\n",
      "Epoch 2\n",
      "Train on 40000 samples, validate on 10000 samples\n",
      "Epoch 1/1\n",
      "2s - loss: 0.0150 - val_loss: 0.0204\n",
      "Flipped 4240.0 training samples (10.6 %)\n",
      "Mean IOU: 0.251106918999\n",
      "Mean dist: 0.153800096666\n",
      "Mean mse: 0.00559663701382\n",
      "\n",
      "Epoch 3\n",
      "Train on 40000 samples, validate on 10000 samples\n",
      "Epoch 1/1\n",
      "3s - loss: 0.0130 - val_loss: 0.0212\n",
      "Flipped 2280.0 training samples (5.7 %)\n",
      "Mean IOU: 0.277501980239\n",
      "Mean dist: 0.141010581968\n",
      "Mean mse: 0.00496034980357\n",
      "\n",
      "Epoch 4\n",
      "Train on 40000 samples, validate on 10000 samples\n",
      "Epoch 1/1\n",
      "2s - loss: 0.0119 - val_loss: 0.0217\n",
      "Flipped 1812.0 training samples (4.53 %)\n",
      "Mean IOU: 0.299665635151\n",
      "Mean dist: 0.131943238998\n",
      "Mean mse: 0.00453679827365\n",
      "\n",
      "Epoch 5\n",
      "Train on 40000 samples, validate on 10000 samples\n",
      "Epoch 1/1\n",
      "2s - loss: 0.0111 - val_loss: 0.0220\n",
      "Flipped 1437.0 training samples (3.5925 %)\n",
      "Mean IOU: 0.31418044106\n",
      "Mean dist: 0.125220445092\n",
      "Mean mse: 0.00419997932865\n",
      "\n",
      "Epoch 6\n",
      "Train on 40000 samples, validate on 10000 samples\n",
      "Epoch 1/1\n",
      "2s - loss: 0.0105 - val_loss: 0.0225\n",
      "Flipped 1526.0 training samples (3.815 %)\n",
      "Mean IOU: 0.331142524788\n",
      "Mean dist: 0.118991890303\n",
      "Mean mse: 0.00392323951083\n",
      "\n",
      "Epoch 7\n",
      "Train on 40000 samples, validate on 10000 samples\n",
      "Epoch 1/1\n",
      "2s - loss: 0.0100 - val_loss: 0.0228\n",
      "Flipped 1172.0 training samples (2.93 %)\n",
      "Mean IOU: 0.34543661596\n",
      "Mean dist: 0.113598305609\n",
      "Mean mse: 0.00367849045312\n",
      "\n",
      "Epoch 8\n",
      "Train on 40000 samples, validate on 10000 samples\n",
      "Epoch 1/1\n",
      "2s - loss: 0.0096 - val_loss: 0.0229\n",
      "Flipped 988.0 training samples (2.47 %)\n",
      "Mean IOU: 0.356540425907\n",
      "Mean dist: 0.109198101651\n",
      "Mean mse: 0.00348902813688\n",
      "\n",
      "Epoch 9\n",
      "Train on 40000 samples, validate on 10000 samples\n",
      "Epoch 1/1\n",
      "2s - loss: 0.0092 - val_loss: 0.0229\n",
      "Flipped 1041.0 training samples (2.6025 %)\n",
      "Mean IOU: 0.364558090872\n",
      "Mean dist: 0.106299435695\n",
      "Mean mse: 0.0033265020771\n",
      "\n",
      "Epoch 10\n",
      "Train on 40000 samples, validate on 10000 samples\n",
      "Epoch 1/1\n",
      "2s - loss: 0.0089 - val_loss: 0.0232\n",
      "Flipped 697.0 training samples (1.7425 %)\n",
      "Mean IOU: 0.374192726269\n",
      "Mean dist: 0.102362562652\n",
      "Mean mse: 0.00317120671055\n",
      "\n",
      "Epoch 11\n",
      "Train on 40000 samples, validate on 10000 samples\n",
      "Epoch 1/1\n",
      "2s - loss: 0.0086 - val_loss: 0.0233\n",
      "Flipped 821.0 training samples (2.0525 %)\n",
      "Mean IOU: 0.381939290872\n",
      "Mean dist: 0.0995234924274\n",
      "Mean mse: 0.00304664076566\n",
      "\n",
      "Epoch 12\n",
      "Train on 40000 samples, validate on 10000 samples\n",
      "Epoch 1/1\n",
      "2s - loss: 0.0083 - val_loss: 0.0235\n",
      "Flipped 639.0 training samples (1.5975 %)\n",
      "Mean IOU: 0.389027211857\n",
      "Mean dist: 0.0974743195474\n",
      "Mean mse: 0.00293538438011\n",
      "\n",
      "Epoch 13\n",
      "Train on 40000 samples, validate on 10000 samples\n",
      "Epoch 1/1\n",
      "2s - loss: 0.0082 - val_loss: 0.0235\n",
      "Flipped 678.0 training samples (1.695 %)\n",
      "Mean IOU: 0.399173566656\n",
      "Mean dist: 0.0949032411027\n",
      "Mean mse: 0.00282684413067\n",
      "\n",
      "Epoch 14\n",
      "Train on 40000 samples, validate on 10000 samples\n",
      "Epoch 1/1\n",
      "2s - loss: 0.0080 - val_loss: 0.0236\n",
      "Flipped 618.0 training samples (1.545 %)\n",
      "Mean IOU: 0.403507223408\n",
      "Mean dist: 0.0929981797996\n",
      "Mean mse: 0.00273148774462\n",
      "\n",
      "Epoch 15\n",
      "Train on 40000 samples, validate on 10000 samples\n",
      "Epoch 1/1\n",
      "2s - loss: 0.0078 - val_loss: 0.0239\n",
      "Flipped 750.0 training samples (1.875 %)\n",
      "Mean IOU: 0.410588897039\n",
      "Mean dist: 0.0908761495889\n",
      "Mean mse: 0.0026544331145\n",
      "\n",
      "Epoch 16\n",
      "Train on 40000 samples, validate on 10000 samples\n",
      "Epoch 1/1\n",
      "2s - loss: 0.0076 - val_loss: 0.0241\n",
      "Flipped 686.0 training samples (1.715 %)\n",
      "Mean IOU: 0.418996945724\n",
      "Mean dist: 0.0888948065314\n",
      "Mean mse: 0.0025722494028\n",
      "\n",
      "Epoch 17\n",
      "Train on 40000 samples, validate on 10000 samples\n",
      "Epoch 1/1\n",
      "2s - loss: 0.0075 - val_loss: 0.0238\n",
      "Flipped 581.0 training samples (1.4525 %)\n",
      "Mean IOU: 0.424184888081\n",
      "Mean dist: 0.0873501393816\n",
      "Mean mse: 0.00251163484627\n",
      "\n",
      "Epoch 18\n",
      "Train on 40000 samples, validate on 10000 samples\n",
      "Epoch 1/1\n",
      "2s - loss: 0.0073 - val_loss: 0.0239\n",
      "Flipped 571.0 training samples (1.4275 %)\n",
      "Mean IOU: 0.430039911385\n",
      "Mean dist: 0.0856274159229\n",
      "Mean mse: 0.00243802334432\n",
      "\n",
      "Epoch 19\n",
      "Train on 40000 samples, validate on 10000 samples\n",
      "Epoch 1/1\n",
      "2s - loss: 0.0072 - val_loss: 0.0239\n",
      "Flipped 452.0 training samples (1.13 %)\n",
      "Mean IOU: 0.433272926262\n",
      "Mean dist: 0.0845405565164\n",
      "Mean mse: 0.00238937732887\n",
      "\n",
      "Epoch 20\n",
      "Train on 40000 samples, validate on 10000 samples\n",
      "Epoch 1/1\n",
      "2s - loss: 0.0071 - val_loss: 0.0243\n",
      "Flipped 403.0 training samples (1.0075 %)\n",
      "Mean IOU: 0.442589569635\n",
      "Mean dist: 0.081736119599\n",
      "Mean mse: 0.002300822613\n",
      "\n",
      "Epoch 21\n",
      "Train on 40000 samples, validate on 10000 samples\n",
      "Epoch 1/1\n",
      "3s - loss: 0.0070 - val_loss: 0.0243\n",
      "Flipped 426.0 training samples (1.065 %)\n",
      "Mean IOU: 0.437372472621\n",
      "Mean dist: 0.0825716755323\n",
      "Mean mse: 0.00229706401744\n",
      "\n",
      "Epoch 22\n",
      "Train on 40000 samples, validate on 10000 samples\n",
      "Epoch 1/1\n",
      "2s - loss: 0.0069 - val_loss: 0.0242\n",
      "Flipped 322.0 training samples (0.805 %)\n",
      "Mean IOU: 0.447041620476\n",
      "Mean dist: 0.0808203517427\n",
      "Mean mse: 0.00223702435172\n",
      "\n",
      "Epoch 23\n",
      "Train on 40000 samples, validate on 10000 samples\n",
      "Epoch 1/1\n",
      "2s - loss: 0.0069 - val_loss: 0.0241\n",
      "Flipped 323.0 training samples (0.8075 %)\n",
      "Mean IOU: 0.444742584252\n",
      "Mean dist: 0.0812139063405\n",
      "Mean mse: 0.00224665052732\n",
      "\n",
      "Epoch 24\n",
      "Train on 40000 samples, validate on 10000 samples\n",
      "Epoch 1/1\n",
      "2s - loss: 0.0068 - val_loss: 0.0243\n",
      "Flipped 403.0 training samples (1.0075 %)\n",
      "Mean IOU: 0.453926726631\n",
      "Mean dist: 0.078654691172\n",
      "Mean mse: 0.00216548576696\n",
      "\n",
      "Epoch 25\n",
      "Train on 40000 samples, validate on 10000 samples\n",
      "Epoch 1/1\n",
      "2s - loss: 0.0067 - val_loss: 0.0241\n",
      "Flipped 318.0 training samples (0.795 %)\n",
      "Mean IOU: 0.454372876255\n",
      "Mean dist: 0.0789630339262\n",
      "Mean mse: 0.00215756388899\n",
      "\n",
      "Epoch 26\n",
      "Train on 40000 samples, validate on 10000 samples\n",
      "Epoch 1/1\n",
      "2s - loss: 0.0066 - val_loss: 0.0242\n",
      "Flipped 384.0 training samples (0.96 %)\n",
      "Mean IOU: 0.455093751177\n",
      "Mean dist: 0.0784194052206\n",
      "Mean mse: 0.00213678858996\n",
      "\n",
      "Epoch 27\n",
      "Train on 40000 samples, validate on 10000 samples\n",
      "Epoch 1/1\n",
      "2s - loss: 0.0066 - val_loss: 0.0245\n",
      "Flipped 319.0 training samples (0.7975 %)\n",
      "Mean IOU: 0.457610800536\n",
      "Mean dist: 0.0772177815774\n",
      "Mean mse: 0.0021002412861\n",
      "\n",
      "Epoch 28\n",
      "Train on 40000 samples, validate on 10000 samples\n",
      "Epoch 1/1\n",
      "2s - loss: 0.0065 - val_loss: 0.0245\n",
      "Flipped 363.0 training samples (0.9075 %)\n",
      "Mean IOU: 0.463026173604\n",
      "Mean dist: 0.0760770275642\n",
      "Mean mse: 0.00206011307056\n",
      "\n",
      "Epoch 29\n",
      "Train on 40000 samples, validate on 10000 samples\n",
      "Epoch 1/1\n",
      "2s - loss: 0.0065 - val_loss: 0.0242\n",
      "Flipped 335.0 training samples (0.8375 %)\n",
      "Mean IOU: 0.460029429252\n",
      "Mean dist: 0.0773609536022\n",
      "Mean mse: 0.00208323971074\n",
      "\n",
      "Epoch 30\n",
      "Train on 40000 samples, validate on 10000 samples\n",
      "Epoch 1/1\n",
      "2s - loss: 0.0064 - val_loss: 0.0245\n",
      "Flipped 234.0 training samples (0.585 %)\n",
      "Mean IOU: 0.46961803655\n",
      "Mean dist: 0.0749676349377\n",
      "Mean mse: 0.00203222502343\n",
      "\n",
      "Epoch 31\n",
      "Train on 40000 samples, validate on 10000 samples\n",
      "Epoch 1/1\n",
      "2s - loss: 0.0064 - val_loss: 0.0247\n",
      "Flipped 387.0 training samples (0.9675 %)\n",
      "Mean IOU: 0.470608679921\n",
      "Mean dist: 0.0740146431432\n",
      "Mean mse: 0.00199135766526\n",
      "\n",
      "Epoch 32\n",
      "Train on 40000 samples, validate on 10000 samples\n",
      "Epoch 1/1\n",
      "2s - loss: 0.0063 - val_loss: 0.0245\n",
      "Flipped 282.0 training samples (0.705 %)\n",
      "Mean IOU: 0.470118171211\n",
      "Mean dist: 0.0738592915286\n",
      "Mean mse: 0.00197842837846\n",
      "\n",
      "Epoch 33\n",
      "Train on 40000 samples, validate on 10000 samples\n",
      "Epoch 1/1\n",
      "2s - loss: 0.0063 - val_loss: 0.0245\n",
      "Flipped 293.0 training samples (0.7325 %)\n",
      "Mean IOU: 0.474404012902\n",
      "Mean dist: 0.0735462556776\n",
      "Mean mse: 0.001959014029\n",
      "\n",
      "Epoch 34\n",
      "Train on 40000 samples, validate on 10000 samples\n",
      "Epoch 1/1\n",
      "2s - loss: 0.0063 - val_loss: 0.0247\n",
      "Flipped 273.0 training samples (0.6825 %)\n",
      "Mean IOU: 0.47574437323\n",
      "Mean dist: 0.0728054629133\n",
      "Mean mse: 0.00194009840461\n",
      "\n",
      "Epoch 35\n",
      "Train on 40000 samples, validate on 10000 samples\n",
      "Epoch 1/1\n",
      "3s - loss: 0.0062 - val_loss: 0.0245\n",
      "Flipped 285.0 training samples (0.7125 %)\n",
      "Mean IOU: 0.477151418694\n",
      "Mean dist: 0.0726782049133\n",
      "Mean mse: 0.00192376103654\n",
      "\n",
      "Epoch 36\n",
      "Train on 40000 samples, validate on 10000 samples\n",
      "Epoch 1/1\n",
      "2s - loss: 0.0061 - val_loss: 0.0247\n",
      "Flipped 280.0 training samples (0.7 %)\n",
      "Mean IOU: 0.478953860581\n",
      "Mean dist: 0.0720496281562\n",
      "Mean mse: 0.00189495957262\n",
      "\n",
      "Epoch 37\n",
      "Train on 40000 samples, validate on 10000 samples\n",
      "Epoch 1/1\n",
      "2s - loss: 0.0061 - val_loss: 0.0249\n",
      "Flipped 238.0 training samples (0.595 %)\n",
      "Mean IOU: 0.485612802479\n",
      "Mean dist: 0.0705254064983\n",
      "Mean mse: 0.00185026440083\n",
      "\n",
      "Epoch 38\n",
      "Train on 40000 samples, validate on 10000 samples\n",
      "Epoch 1/1\n",
      "2s - loss: 0.0061 - val_loss: 0.0245\n",
      "Flipped 220.0 training samples (0.55 %)\n",
      "Mean IOU: 0.477454585999\n",
      "Mean dist: 0.0719046474651\n",
      "Mean mse: 0.00188276242328\n",
      "\n",
      "Epoch 39\n",
      "Train on 40000 samples, validate on 10000 samples\n",
      "Epoch 1/1\n",
      "2s - loss: 0.0061 - val_loss: 0.0247\n",
      "Flipped 235.0 training samples (0.5875 %)\n",
      "Mean IOU: 0.481772569811\n",
      "Mean dist: 0.0713024149384\n",
      "Mean mse: 0.00187054984367\n",
      "\n",
      "Epoch 40\n",
      "Train on 40000 samples, validate on 10000 samples\n",
      "Epoch 1/1\n",
      "2s - loss: 0.0061 - val_loss: 0.0248\n",
      "Flipped 264.0 training samples (0.66 %)\n",
      "Mean IOU: 0.483492848349\n",
      "Mean dist: 0.0707738993554\n",
      "Mean mse: 0.00184634708223\n",
      "\n",
      "Epoch 41\n",
      "Train on 40000 samples, validate on 10000 samples\n",
      "Epoch 1/1\n",
      "2s - loss: 0.0061 - val_loss: 0.0249\n",
      "Flipped 253.0 training samples (0.6325 %)\n",
      "Mean IOU: 0.481306290104\n",
      "Mean dist: 0.0707721782897\n",
      "Mean mse: 0.00184881686819\n",
      "\n",
      "Epoch 42\n",
      "Train on 40000 samples, validate on 10000 samples\n",
      "Epoch 1/1\n",
      "2s - loss: 0.0061 - val_loss: 0.0247\n",
      "Flipped 259.0 training samples (0.6475 %)\n",
      "Mean IOU: 0.484973269763\n",
      "Mean dist: 0.0702191452585\n",
      "Mean mse: 0.00181671099039\n",
      "\n",
      "Epoch 43\n",
      "Train on 40000 samples, validate on 10000 samples\n",
      "Epoch 1/1\n",
      "3s - loss: 0.0060 - val_loss: 0.0247\n",
      "Flipped 226.0 training samples (0.565 %)\n",
      "Mean IOU: 0.485699224635\n",
      "Mean dist: 0.0705432710211\n",
      "Mean mse: 0.00182664435223\n",
      "\n",
      "Epoch 44\n",
      "Train on 40000 samples, validate on 10000 samples\n",
      "Epoch 1/1\n",
      "2s - loss: 0.0060 - val_loss: 0.0245\n",
      "Flipped 242.0 training samples (0.605 %)\n",
      "Mean IOU: 0.486526667704\n",
      "Mean dist: 0.0702527203698\n",
      "Mean mse: 0.00181987211074\n",
      "\n",
      "Epoch 45\n",
      "Train on 40000 samples, validate on 10000 samples\n",
      "Epoch 1/1\n",
      "2s - loss: 0.0060 - val_loss: 0.0250\n",
      "Flipped 218.0 training samples (0.545 %)\n",
      "Mean IOU: 0.490067178897\n",
      "Mean dist: 0.0689831817917\n",
      "Mean mse: 0.00179033876822\n",
      "\n",
      "Epoch 46\n",
      "Train on 40000 samples, validate on 10000 samples\n",
      "Epoch 1/1\n",
      "2s - loss: 0.0059 - val_loss: 0.0248\n",
      "Flipped 245.0 training samples (0.6125 %)\n",
      "Mean IOU: 0.491345980976\n",
      "Mean dist: 0.0687047519983\n",
      "Mean mse: 0.00177435903349\n",
      "\n",
      "Epoch 47\n",
      "Train on 40000 samples, validate on 10000 samples\n",
      "Epoch 1/1\n",
      "2s - loss: 0.0059 - val_loss: 0.0247\n",
      "Flipped 239.0 training samples (0.5975 %)\n",
      "Mean IOU: 0.489264187585\n",
      "Mean dist: 0.0694518844395\n",
      "Mean mse: 0.0017843305106\n",
      "\n",
      "Epoch 48\n",
      "Train on 40000 samples, validate on 10000 samples\n",
      "Epoch 1/1\n",
      "2s - loss: 0.0059 - val_loss: 0.0248\n",
      "Flipped 266.0 training samples (0.665 %)\n",
      "Mean IOU: 0.488129088089\n",
      "Mean dist: 0.0695082726052\n",
      "Mean mse: 0.00178704787256\n",
      "\n",
      "Epoch 49\n",
      "Train on 40000 samples, validate on 10000 samples\n",
      "Epoch 1/1\n",
      "2s - loss: 0.0059 - val_loss: 0.0248\n",
      "Flipped 197.0 training samples (0.4925 %)\n",
      "Mean IOU: 0.487095655783\n",
      "Mean dist: 0.0694985856093\n",
      "Mean mse: 0.00177344207584\n",
      "\n"
     ]
    }
   ],
   "source": [
    "# Flip bboxes during training.\n",
    "# Note: The validation loss is always quite big here because we don't flip the bounding boxes for the validation data. \n",
    "def IOU(bbox1, bbox2):\n",
    "    '''Calculate overlap between two bounding boxes [x, y, w, h] as the area of intersection over the area of unity'''\n",
    "    x1, y1, w1, h1 = bbox1[0], bbox1[1], bbox1[2], bbox1[3]\n",
    "    x2, y2, w2, h2 = bbox2[0], bbox2[1], bbox2[2], bbox2[3]\n",
    "\n",
    "    w_I = min(x1 + w1, x2 + w2) - max(x1, x2)\n",
    "    h_I = min(y1 + h1, y2 + h2) - max(y1, y2)\n",
    "    if w_I <= 0 or h_I <= 0:  # no overlap\n",
    "        return 0\n",
    "    I = w_I * h_I\n",
    "\n",
    "    U = w1 * h1 + w2 * h2 - I\n",
    "\n",
    "    return I / U\n",
    "\n",
    "def distance(bbox1, bbox2):\n",
    "    return np.sqrt(np.sum(np.square(bbox1[:2] - bbox2[:2])))\n",
    "\n",
    "num_epochs = 50\n",
    "flipped_train_y = np.array(train_y)\n",
    "flipped = np.zeros((len(flipped_train_y), num_epochs))\n",
    "ious_epoch = np.zeros((len(flipped_train_y), num_epochs))\n",
    "dists_epoch = np.zeros((len(flipped_train_y), num_epochs))\n",
    "mses_epoch = np.zeros((len(flipped_train_y), num_epochs))\n",
    "\n",
    "for epoch in range(num_epochs):\n",
    "    print 'Epoch', epoch\n",
    "    model.fit(train_X, flipped_train_y, nb_epoch=1, validation_data=(test_X, test_y), verbose=2)\n",
    "    pred_y = model.predict(train_X)\n",
    "\n",
    "    for i, (pred_bboxes, exp_bboxes) in enumerate(zip(pred_y, flipped_train_y)):\n",
    "        \n",
    "        flipped_exp_bboxes = np.concatenate([exp_bboxes[4:], exp_bboxes[:4]])\n",
    "        \n",
    "        mse = np.mean(np.square(pred_bboxes - exp_bboxes))\n",
    "        mse_flipped = np.mean(np.square(pred_bboxes - flipped_exp_bboxes))\n",
    "        \n",
    "        iou = IOU(pred_bboxes[:4], exp_bboxes[:4]) + IOU(pred_bboxes[4:], exp_bboxes[4:])\n",
    "        iou_flipped = IOU(pred_bboxes[:4], flipped_exp_bboxes[:4]) + IOU(pred_bboxes[4:], flipped_exp_bboxes[4:])\n",
    "        \n",
    "        dist = distance(pred_bboxes[:4], exp_bboxes[:4]) + distance(pred_bboxes[4:], exp_bboxes[4:])\n",
    "        dist_flipped = distance(pred_bboxes[:4], flipped_exp_bboxes[:4]) + distance(pred_bboxes[4:], flipped_exp_bboxes[4:])\n",
    "        \n",
    "        if mse_flipped < mse:  # you can also use iou or dist here\n",
    "            flipped_train_y[i] = flipped_exp_bboxes\n",
    "            flipped[i, epoch] = 1\n",
    "            mses_epoch[i, epoch] = mse_flipped / 2.\n",
    "            ious_epoch[i, epoch] = iou_flipped / 2.\n",
    "            dists_epoch[i, epoch] = dist_flipped / 2.\n",
    "        else:\n",
    "            mses_epoch[i, epoch] = mse / 2.\n",
    "            ious_epoch[i, epoch] = iou / 2.\n",
    "            dists_epoch[i, epoch] = dist / 2.\n",
    "            \n",
    "    print 'Flipped {} training samples ({} %)'.format(np.sum(flipped[:, epoch]), np.mean(flipped[:, epoch]) * 100.)\n",
    "    print 'Mean IOU: {}'.format(np.mean(ious_epoch[:, epoch]))\n",
    "    print 'Mean dist: {}'.format(np.mean(dists_epoch[:, epoch]))\n",
    "    print 'Mean mse: {}'.format(np.mean(mses_epoch[:, epoch]))\n",
    "    print"
   ]
  },
  {
   "cell_type": "code",
   "execution_count": 10,
   "metadata": {
    "ExecuteTime": {
     "end_time": "2016-07-08T02:38:08.340000",
     "start_time": "2016-07-08T02:38:07.482000"
    },
    "collapsed": false
   },
   "outputs": [
    {
     "data": {
      "text/plain": [
       "<matplotlib.text.Text at 0x122c06a0>"
      ]
     },
     "execution_count": 10,
     "metadata": {},
     "output_type": "execute_result"
    },
    {
     "data": {
      "image/png": "[encoded data removed]",
      "text/plain": [
       "<matplotlib.figure.Figure at 0x1650c940>"
      ]
     },
     "metadata": {},
     "output_type": "display_data"
    }
   ],
   "source": [
    "# Show flippings for a few training samples.\n",
    "plt.pcolor(flipped[:300], cmap='Greys')\n",
    "plt.xlabel('Epoch')\n",
    "plt.ylabel('Training sample')\n",
    "\n",
    "# plt.savefig('plots/bw-two-rectangles_flips.png', dpi=300)"
   ]
  },
  {
   "cell_type": "code",
   "execution_count": 11,
   "metadata": {
    "ExecuteTime": {
     "end_time": "2016-07-08T02:38:09.494000",
     "start_time": "2016-07-08T02:38:09.091000"
    },
    "collapsed": false
   },
   "outputs": [
    {
     "data": {
      "text/plain": [
       "(0, 1)"
      ]
     },
     "execution_count": 11,
     "metadata": {},
     "output_type": "execute_result"
    },
    {
     "data": {
      "image/png": "[encoded data removed]",
      "text/plain": [
       "<matplotlib.figure.Figure at 0x164fef60>"
      ]
     },
     "metadata": {},
     "output_type": "display_data"
    }
   ],
   "source": [
    "# Plot metrics on the training data. \n",
    "mean_ious_epoch = np.mean(ious_epoch, axis=0)\n",
    "mean_dists_epoch = np.mean(dists_epoch, axis=0)\n",
    "mean_mses_epoch = np.mean(mses_epoch, axis=0)\n",
    "plt.plot(mean_ious_epoch, label='Mean IOU')  # between predicted and assigned true bboxes\n",
    "plt.plot(mean_dists_epoch, label='Mean distance')  # relative to image size\n",
    "plt.plot(mean_mses_epoch, label='Mean mse')\n",
    "plt.annotate(np.round(np.max(mean_ious_epoch), 3), (len(mean_ious_epoch)-1, mean_ious_epoch[-1]+0.03), horizontalalignment='right', color='b')\n",
    "plt.annotate(np.round(np.min(mean_dists_epoch), 3), (len(mean_dists_epoch)-1, mean_dists_epoch[-1]+0.03), horizontalalignment='right', color='g')\n",
    "plt.annotate(np.round(np.min(mean_mses_epoch), 3), (len(mean_mses_epoch)-1, mean_mses_epoch[-1]+0.03), horizontalalignment='right', color='r')\n",
    "\n",
    "plt.legend()\n",
    "plt.ylim(0, 1)"
   ]
  },
  {
   "cell_type": "code",
   "execution_count": 12,
   "metadata": {
    "ExecuteTime": {
     "end_time": "2016-07-08T02:38:19.683000",
     "start_time": "2016-07-08T02:38:19.452000"
    },
    "collapsed": false
   },
   "outputs": [
    {
     "data": {
      "text/plain": [
       "(10000L, 2L, 4L)"
      ]
     },
     "execution_count": 12,
     "metadata": {},
     "output_type": "execute_result"
    }
   ],
   "source": [
    "# Predict bounding boxes on the test images.\n",
    "pred_y = model.predict(test_X)\n",
    "pred_bboxes = pred_y * img_size\n",
    "pred_bboxes = pred_bboxes.reshape(len(pred_bboxes), num_objects, -1)\n",
    "pred_bboxes.shape"
   ]
  },
  {
   "cell_type": "code",
   "execution_count": 14,
   "metadata": {
    "ExecuteTime": {
     "end_time": "2016-07-08T02:38:27.705000",
     "start_time": "2016-07-08T02:38:26.975000"
    },
    "collapsed": false
   },
   "outputs": [
    {
     "data": {
      "image/png": "[encoded data removed]",
      "text/plain": [
       "<matplotlib.figure.Figure at 0x18a2ef98>"
      ]
     },
     "metadata": {},
     "output_type": "display_data"
    }
   ],
   "source": [
    "# Show a few images and predicted bounding boxes from the test dataset. \n",
    "plt.figure(figsize=(12, 3))\n",
    "for i_subplot in range(1, 5):\n",
    "    plt.subplot(1, 4, i_subplot)\n",
    "    i = np.random.randint(len(test_X))\n",
    "    plt.imshow(test_imgs[i].T, cmap='Greys', interpolation='none', origin='lower', extent=[0, img_size, 0, img_size])\n",
    "    for pred_bbox, exp_bbox in zip(pred_bboxes[i], test_bboxes[i]):\n",
    "        plt.gca().add_patch(matplotlib.patches.Rectangle((pred_bbox[0], pred_bbox[1]), pred_bbox[2], pred_bbox[3], ec='r', fc='none'))\n",
    "\n",
    "# plt.savefig('plots/bw-two-rectangles_with-flipping.png', dpi=300)"
   ]
  },
  {
   "cell_type": "code",
   "execution_count": null,
   "metadata": {
    "collapsed": true
   },
   "outputs": [],
   "source": []
  }
 ],
 "metadata": {
  "kernelspec": {
   "display_name": "Python 2",
   "language": "python",
   "name": "python2"
  },
  "language_info": {
   "codemirror_mode": {
    "name": "ipython",
    "version": 2
   },
   "file_extension": ".py",
   "mimetype": "text/x-python",
   "name": "python",
   "nbconvert_exporter": "python",
   "pygments_lexer": "ipython2",
   "version": "2.7.11"
  }
 },
 "nbformat": 4,
 "nbformat_minor": 0
}
