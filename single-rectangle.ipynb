{
 "cells": [
  {
   "cell_type": "code",
   "execution_count": 1,
   "metadata": {
    "ExecuteTime": {
     "end_time": "2016-07-08T01:56:12.535000",
     "start_time": "2016-07-08T01:56:12.147000"
    },
    "collapsed": true
   },
   "outputs": [],
   "source": [
    "import numpy as np\n",
    "import matplotlib.pyplot as plt\n",
    "import matplotlib\n",
    "%matplotlib inline"
   ]
  },
  {
   "cell_type": "code",
   "execution_count": 2,
   "metadata": {
    "ExecuteTime": {
     "end_time": "2016-07-08T01:56:14.210000",
     "start_time": "2016-07-08T01:56:13.200000"
    },
    "collapsed": false
   },
   "outputs": [
    {
     "data": {
      "text/plain": [
       "((50000L, 8L, 8L), (50000L, 1L, 4L))"
      ]
     },
     "execution_count": 2,
     "metadata": {},
     "output_type": "execute_result"
    }
   ],
   "source": [
    "# Create images with random rectangles and bounding boxes. \n",
    "num_imgs = 50000\n",
    "\n",
    "img_size = 8\n",
    "min_object_size = 1\n",
    "max_object_size = 4\n",
    "num_objects = 1\n",
    "\n",
    "bboxes = np.zeros((num_imgs, num_objects, 4))\n",
    "imgs = np.zeros((num_imgs, img_size, img_size))  # set background to 0\n",
    "\n",
    "for i_img in range(num_imgs):\n",
    "    for i_object in range(num_objects):\n",
    "        w, h = np.random.randint(min_object_size, max_object_size, size=2)\n",
    "        x = np.random.randint(0, img_size - w)\n",
    "        y = np.random.randint(0, img_size - h)\n",
    "        imgs[i_img, x:x+w, y:y+h] = 1.  # set rectangle to 1\n",
    "        bboxes[i_img, i_object] = [x, y, w, h]\n",
    "        \n",
    "imgs.shape, bboxes.shape"
   ]
  },
  {
   "cell_type": "code",
   "execution_count": 3,
   "metadata": {
    "ExecuteTime": {
     "end_time": "2016-07-08T01:56:15.125000",
     "start_time": "2016-07-08T01:56:14.870000"
    },
    "collapsed": false
   },
   "outputs": [
    {
     "data": {
      "image/png": "[encoded data removed]",
      "text/plain": [
       "<matplotlib.figure.Figure at 0x75076d8>"
      ]
     },
     "metadata": {},
     "output_type": "display_data"
    }
   ],
   "source": [
    "i = 0\n",
    "plt.imshow(imgs[i].T, cmap='Greys', interpolation='none', origin='lower', extent=[0, img_size, 0, img_size])\n",
    "for bbox in bboxes[i]:\n",
    "    plt.gca().add_patch(matplotlib.patches.Rectangle((bbox[0], bbox[1]), bbox[2], bbox[3], ec='r', fc='none'))"
   ]
  },
  {
   "cell_type": "code",
   "execution_count": 4,
   "metadata": {
    "ExecuteTime": {
     "end_time": "2016-07-08T01:56:15.930000",
     "start_time": "2016-07-08T01:56:15.803000"
    },
    "collapsed": false
   },
   "outputs": [
    {
     "data": {
      "text/plain": [
       "((50000L, 64L), -6.8856031987252206e-17, 1.0000000000000009)"
      ]
     },
     "execution_count": 4,
     "metadata": {},
     "output_type": "execute_result"
    }
   ],
   "source": [
    "# Reshape and normalize the image data to mean 0 and std 1. \n",
    "X = (imgs.reshape(num_imgs, -1) - np.mean(imgs)) / np.std(imgs)\n",
    "X.shape, np.mean(X), np.std(X)"
   ]
  },
  {
   "cell_type": "code",
   "execution_count": 5,
   "metadata": {
    "ExecuteTime": {
     "end_time": "2016-07-08T01:56:16.558000",
     "start_time": "2016-07-08T01:56:16.548000"
    },
    "collapsed": false
   },
   "outputs": [
    {
     "data": {
      "text/plain": [
       "((50000L, 4L), 0.28105437500000002, 0.17477239890314314)"
      ]
     },
     "execution_count": 5,
     "metadata": {},
     "output_type": "execute_result"
    }
   ],
   "source": [
    "# Normalize x, y, w, h by img_size, so that all values are between 0 and 1.\n",
    "# Important: Do not shift to negative values (e.g. by setting to mean 0), because the IOU calculation needs positive w and h.\n",
    "y = bboxes.reshape(num_imgs, -1) / img_size\n",
    "y.shape, np.mean(y), np.std(y)"
   ]
  },
  {
   "cell_type": "code",
   "execution_count": 6,
   "metadata": {
    "ExecuteTime": {
     "end_time": "2016-07-08T01:56:17.198000",
     "start_time": "2016-07-08T01:56:17.192000"
    },
    "collapsed": true
   },
   "outputs": [],
   "source": [
    "# Split training and test.\n",
    "i = int(0.8 * num_imgs)\n",
    "train_X = X[:i]\n",
    "test_X = X[i:]\n",
    "train_y = y[:i]\n",
    "test_y = y[i:]\n",
    "test_imgs = imgs[i:]\n",
    "test_bboxes = bboxes[i:]"
   ]
  },
  {
   "cell_type": "code",
   "execution_count": 7,
   "metadata": {
    "ExecuteTime": {
     "end_time": "2016-07-08T01:56:21.616000",
     "start_time": "2016-07-08T01:56:17.964000"
    },
    "collapsed": false
   },
   "outputs": [
    {
     "name": "stderr",
     "output_type": "stream",
     "text": [
      "Using Theano backend.\n"
     ]
    }
   ],
   "source": [
    "# Build the model.\n",
    "from keras.models import Sequential\n",
    "from keras.layers import Dense, Activation, Dropout\n",
    "from keras.optimizers import SGD\n",
    "model = Sequential([\n",
    "        Dense(200, input_dim=X.shape[-1]), \n",
    "        Activation('relu'), \n",
    "        Dropout(0.2), \n",
    "        Dense(y.shape[-1])\n",
    "    ])\n",
    "model.compile('adadelta', 'mse')"
   ]
  },
  {
   "cell_type": "code",
   "execution_count": 8,
   "metadata": {
    "ExecuteTime": {
     "end_time": "2016-07-08T01:57:19.973000",
     "start_time": "2016-07-08T01:56:21.618000"
    },
    "collapsed": false,
    "scrolled": true
   },
   "outputs": [
    {
     "name": "stdout",
     "output_type": "stream",
     "text": [
      "Train on 40000 samples, validate on 10000 samples\n",
      "Epoch 1/30\n",
      "1s - loss: 0.0666 - val_loss: 0.0022\n",
      "Epoch 2/30\n",
      "1s - loss: 0.0047 - val_loss: 5.8258e-04\n",
      "Epoch 3/30\n",
      "1s - loss: 0.0019 - val_loss: 3.0037e-04\n",
      "Epoch 4/30\n",
      "1s - loss: 0.0014 - val_loss: 2.2738e-04\n",
      "Epoch 5/30\n",
      "1s - loss: 0.0012 - val_loss: 1.4762e-04\n",
      "Epoch 6/30\n",
      "2s - loss: 0.0011 - val_loss: 1.3302e-04\n",
      "Epoch 7/30\n",
      "2s - loss: 9.9042e-04 - val_loss: 1.1030e-04\n",
      "Epoch 8/30\n",
      "1s - loss: 9.1788e-04 - val_loss: 9.8579e-05\n",
      "Epoch 9/30\n",
      "1s - loss: 8.8779e-04 - val_loss: 8.4835e-05\n",
      "Epoch 10/30\n",
      "1s - loss: 8.5834e-04 - val_loss: 7.8099e-05\n",
      "Epoch 11/30\n",
      "1s - loss: 8.3532e-04 - val_loss: 7.2461e-05\n",
      "Epoch 12/30\n",
      "1s - loss: 8.0197e-04 - val_loss: 7.8811e-05\n",
      "Epoch 13/30\n",
      "2s - loss: 7.8899e-04 - val_loss: 7.1290e-05\n",
      "Epoch 14/30\n",
      "2s - loss: 7.6972e-04 - val_loss: 7.0324e-05\n",
      "Epoch 15/30\n",
      "1s - loss: 7.5325e-04 - val_loss: 5.9552e-05\n",
      "Epoch 16/30\n",
      "1s - loss: 7.4060e-04 - val_loss: 5.8210e-05\n",
      "Epoch 17/30\n",
      "1s - loss: 7.2943e-04 - val_loss: 6.9643e-05\n",
      "Epoch 18/30\n",
      "1s - loss: 7.1842e-04 - val_loss: 5.8081e-05\n",
      "Epoch 19/30\n",
      "1s - loss: 7.1059e-04 - val_loss: 5.3423e-05\n",
      "Epoch 20/30\n",
      "1s - loss: 6.9717e-04 - val_loss: 4.7243e-05\n",
      "Epoch 21/30\n",
      "2s - loss: 6.9394e-04 - val_loss: 6.2623e-05\n",
      "Epoch 22/30\n",
      "2s - loss: 6.8506e-04 - val_loss: 5.4235e-05\n",
      "Epoch 23/30\n",
      "2s - loss: 6.8581e-04 - val_loss: 4.9188e-05\n",
      "Epoch 24/30\n",
      "1s - loss: 6.7876e-04 - val_loss: 4.8977e-05\n",
      "Epoch 25/30\n",
      "1s - loss: 6.6712e-04 - val_loss: 4.3991e-05\n",
      "Epoch 26/30\n",
      "1s - loss: 6.6541e-04 - val_loss: 3.9585e-05\n",
      "Epoch 27/30\n",
      "1s - loss: 6.6264e-04 - val_loss: 4.2685e-05\n",
      "Epoch 28/30\n",
      "1s - loss: 6.4944e-04 - val_loss: 4.8632e-05\n",
      "Epoch 29/30\n",
      "1s - loss: 6.4864e-04 - val_loss: 5.2251e-05\n",
      "Epoch 30/30\n",
      "1s - loss: 6.4314e-04 - val_loss: 5.0742e-05\n"
     ]
    },
    {
     "data": {
      "text/plain": [
       "<keras.callbacks.History at 0x11195a20>"
      ]
     },
     "execution_count": 8,
     "metadata": {},
     "output_type": "execute_result"
    }
   ],
   "source": [
    "# Train.\n",
    "model.fit(train_X, train_y, nb_epoch=30, validation_data=(test_X, test_y), verbose=2)"
   ]
  },
  {
   "cell_type": "code",
   "execution_count": 9,
   "metadata": {
    "ExecuteTime": {
     "end_time": "2016-07-08T01:57:20.286000",
     "start_time": "2016-07-08T01:57:19.975000"
    },
    "collapsed": false
   },
   "outputs": [
    {
     "data": {
      "text/plain": [
       "(10000L, 1L, 4L)"
      ]
     },
     "execution_count": 9,
     "metadata": {},
     "output_type": "execute_result"
    }
   ],
   "source": [
    "# Predict bounding boxes on the test images.\n",
    "pred_y = model.predict(test_X)\n",
    "pred_bboxes = pred_y * img_size\n",
    "pred_bboxes = pred_bboxes.reshape(len(pred_bboxes), num_objects, -1)\n",
    "pred_bboxes.shape"
   ]
  },
  {
   "cell_type": "code",
   "execution_count": 10,
   "metadata": {
    "ExecuteTime": {
     "end_time": "2016-07-08T01:57:20.311000",
     "start_time": "2016-07-08T01:57:20.289000"
    },
    "collapsed": true
   },
   "outputs": [],
   "source": [
    "def IOU(bbox1, bbox2):\n",
    "    '''Calculate overlap between two bounding boxes [x, y, w, h] as the area of intersection over the area of unity'''\n",
    "    x1, y1, w1, h1 = bbox1[0], bbox1[1], bbox1[2], bbox1[3]\n",
    "    x2, y2, w2, h2 = bbox2[0], bbox2[1], bbox2[2], bbox2[3]\n",
    "\n",
    "    w_I = min(x1 + w1, x2 + w2) - max(x1, x2)\n",
    "    h_I = min(y1 + h1, y2 + h2) - max(y1, y2)\n",
    "    if w_I <= 0 or h_I <= 0:  # no overlap\n",
    "        return 0.\n",
    "    I = w_I * h_I\n",
    "\n",
    "    U = w1 * h1 + w2 * h2 - I\n",
    "\n",
    "    return I / U"
   ]
  },
  {
   "cell_type": "code",
   "execution_count": 22,
   "metadata": {
    "ExecuteTime": {
     "end_time": "2016-07-08T02:01:30.216000",
     "start_time": "2016-07-08T02:01:29.481000"
    },
    "collapsed": false
   },
   "outputs": [
    {
     "data": {
      "image/png": "[encoded data removed]",
      "text/plain": [
       "<matplotlib.figure.Figure at 0x12d42400>"
      ]
     },
     "metadata": {},
     "output_type": "display_data"
    }
   ],
   "source": [
    "# Show a few images and predicted bounding boxes from the test dataset. \n",
    "plt.figure(figsize=(12, 3))\n",
    "for i_subplot in range(1, 5):\n",
    "    plt.subplot(1, 4, i_subplot)\n",
    "    i = np.random.randint(len(test_imgs))\n",
    "    plt.imshow(test_imgs[i].T, cmap='Greys', interpolation='none', origin='lower', extent=[0, img_size, 0, img_size])\n",
    "    for pred_bbox, exp_bbox in zip(pred_bboxes[i], test_bboxes[i]):\n",
    "        plt.gca().add_patch(matplotlib.patches.Rectangle((pred_bbox[0], pred_bbox[1]), pred_bbox[2], pred_bbox[3], ec='r', fc='none'))\n",
    "        plt.annotate('IOU: {:.2f}'.format(IOU(pred_bbox, exp_bbox)), (pred_bbox[0], pred_bbox[1]+pred_bbox[3]+0.2), color='r')\n",
    "        \n",
    "# plt.savefig('plots/bw-single-rectangle_prediction.png', dpi=300)"
   ]
  },
  {
   "cell_type": "code",
   "execution_count": 23,
   "metadata": {
    "ExecuteTime": {
     "end_time": "2016-07-08T02:01:45.826000",
     "start_time": "2016-07-08T02:01:45.738000"
    },
    "collapsed": false
   },
   "outputs": [
    {
     "data": {
      "text/plain": [
       "0.88166504246337463"
      ]
     },
     "execution_count": 23,
     "metadata": {},
     "output_type": "execute_result"
    }
   ],
   "source": [
    "# Calculate the mean IOU (overlap) between the predicted and expected bounding boxes on the test dataset. \n",
    "summed_IOU = 0.\n",
    "for pred_bbox, test_bbox in zip(pred_bboxes.reshape(-1, 4), test_bboxes.reshape(-1, 4)):\n",
    "    summed_IOU += IOU(pred_bbox, test_bbox)\n",
    "mean_IOU = summed_IOU / len(pred_bboxes)\n",
    "mean_IOU"
   ]
  },
  {
   "cell_type": "code",
   "execution_count": null,
   "metadata": {
    "collapsed": true
   },
   "outputs": [],
   "source": []
  }
 ],
 "metadata": {
  "kernelspec": {
   "display_name": "Python 2",
   "language": "python",
   "name": "python2"
  },
  "language_info": {
   "codemirror_mode": {
    "name": "ipython",
    "version": 2
   },
   "file_extension": ".py",
   "mimetype": "text/x-python",
   "name": "python",
   "nbconvert_exporter": "python",
   "pygments_lexer": "ipython2",
   "version": "2.7.11"
  }
 },
 "nbformat": 4,
 "nbformat_minor": 0
}
