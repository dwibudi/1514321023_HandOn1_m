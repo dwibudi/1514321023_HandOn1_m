{
 "cells": [
  {
   "cell_type": "code",
   "execution_count": 1,
   "metadata": {
    "ExecuteTime": {
     "end_time": "2016-07-03T16:03:53.170000",
     "start_time": "2016-07-03T16:03:52.500000"
    },
    "collapsed": true
   },
   "outputs": [],
   "source": [
    "import numpy as np\n",
    "import matplotlib.pyplot as plt\n",
    "import matplotlib\n",
    "%matplotlib inline"
   ]
  },
  {
   "cell_type": "code",
   "execution_count": 30,
   "metadata": {
    "ExecuteTime": {
     "end_time": "2016-07-03T16:16:34.666000",
     "start_time": "2016-07-03T16:16:28.832000"
    },
    "collapsed": false
   },
   "outputs": [
    {
     "data": {
      "text/plain": [
       "((50000L, 16L, 16L), (50000L, 2L, 4L))"
      ]
     },
     "execution_count": 30,
     "metadata": {},
     "output_type": "execute_result"
    }
   ],
   "source": [
    "num_imgs = 50000\n",
    "\n",
    "img_size = 16\n",
    "min_rect_size = 3\n",
    "max_rect_size = 8\n",
    "num_objects = 2\n",
    "\n",
    "bboxes = np.zeros((num_imgs, num_objects, 4))\n",
    "imgs = np.zeros((num_imgs, img_size, img_size))\n",
    "shapes = np.zeros((num_imgs, num_objects, 1))\n",
    "\n",
    "for i_img in range(num_imgs):\n",
    "    for i_object in range(num_objects):\n",
    "        if np.random.choice([True, False]):\n",
    "            width, height = np.random.randint(min_rect_size, max_rect_size, size=2)\n",
    "            x = np.random.randint(0, img_size - width)\n",
    "            y = np.random.randint(0, img_size - height)\n",
    "            imgs[i_img, x:x+width, y:y+height] = 1.\n",
    "            bboxes[i_img, i_object] = [x, y, width, height]\n",
    "            shapes[i_img, i_object] = [0]\n",
    "        else:\n",
    "            size = np.random.randint(min_rect_size, max_rect_size)\n",
    "            x, y = np.random.randint(0, img_size - size, size=2)\n",
    "            mask = np.tril_indices(size)\n",
    "            imgs[i_img, x + mask[0], y + mask[1]] = 1.\n",
    "            bboxes[i_img, i_object] = [x, y, size, size]\n",
    "            shapes[i_img, i_object] = [1]\n",
    "            \n",
    "imgs.shape, bboxes.shape"
   ]
  },
  {
   "cell_type": "code",
   "execution_count": 32,
   "metadata": {
    "ExecuteTime": {
     "end_time": "2016-07-03T16:16:38.997000",
     "start_time": "2016-07-03T16:16:38.662000"
    },
    "collapsed": false
   },
   "outputs": [
    {
     "data": {
      "image/png": "[encoded data removed]",
      "text/plain": [
       "<matplotlib.figure.Figure at 0x15b57eb8>"
      ]
     },
     "metadata": {},
     "output_type": "display_data"
    }
   ],
   "source": [
    "i = 0\n",
    "# TODO: Why does the array have to be transposed?\n",
    "plt.imshow(imgs[i].T, cmap='Greys', interpolation='none', origin='lower', extent=[0, img_size, 0, img_size])\n",
    "for bbox, shape in zip(bboxes[i], shapes[i]):\n",
    "    plt.gca().add_patch(matplotlib.patches.Rectangle((bbox[0], bbox[1]), bbox[2], bbox[3], ec='r' if shape[0] == 0 else 'y', fc='none'))"
   ]
  },
  {
   "cell_type": "code",
   "execution_count": 33,
   "metadata": {
    "ExecuteTime": {
     "end_time": "2016-07-03T16:16:41.668000",
     "start_time": "2016-07-03T16:16:41.115000"
    },
    "collapsed": false
   },
   "outputs": [
    {
     "data": {
      "text/plain": [
       "((50000L, 256L), 5.7734927949582015e-17, 1.0000000000000007)"
      ]
     },
     "execution_count": 33,
     "metadata": {},
     "output_type": "execute_result"
    }
   ],
   "source": [
    "X = (imgs.reshape(num_imgs, -1) - np.mean(imgs)) / np.std(imgs)\n",
    "X.shape, np.mean(X), np.std(X)"
   ]
  },
  {
   "cell_type": "code",
   "execution_count": 34,
   "metadata": {
    "ExecuteTime": {
     "end_time": "2016-07-03T16:16:42.640000",
     "start_time": "2016-07-03T16:16:42.627000"
    },
    "collapsed": false
   },
   "outputs": [
    {
     "data": {
      "text/plain": [
       "(50000L, 10L)"
      ]
     },
     "execution_count": 34,
     "metadata": {},
     "output_type": "execute_result"
    }
   ],
   "source": [
    "y = np.concatenate([bboxes / img_size, shapes], axis=-1).reshape(num_imgs, -1)\n",
    "y.shape"
   ]
  },
  {
   "cell_type": "code",
   "execution_count": 35,
   "metadata": {
    "ExecuteTime": {
     "end_time": "2016-07-03T16:16:43.445000",
     "start_time": "2016-07-03T16:16:43.437000"
    },
    "collapsed": true
   },
   "outputs": [],
   "source": [
    "i = int(0.8 * num_imgs)\n",
    "train_X = X[:i]\n",
    "test_X = X[i:]\n",
    "train_y = y[:i]\n",
    "test_y = y[i:]\n",
    "test_imgs = imgs[i:]\n",
    "test_bboxes = bboxes[i:]"
   ]
  },
  {
   "cell_type": "code",
   "execution_count": 36,
   "metadata": {
    "ExecuteTime": {
     "end_time": "2016-07-03T16:16:44.266000",
     "start_time": "2016-07-03T16:16:44.145000"
    },
    "collapsed": false
   },
   "outputs": [],
   "source": [
    "from keras.models import Sequential\n",
    "from keras.layers import Dense, Activation, Dropout\n",
    "from keras.optimizers import SGD\n",
    "model = Sequential([\n",
    "        Dense(256, input_dim=X.shape[-1]), \n",
    "        Activation('relu'), \n",
    "        Dropout(0.4), \n",
    "        Dense(y.shape[-1])\n",
    "    ])\n",
    "model.compile('adadelta', 'mse')"
   ]
  },
  {
   "cell_type": "code",
   "execution_count": 37,
   "metadata": {
    "ExecuteTime": {
     "end_time": "2016-07-03T16:32:02.176000",
     "start_time": "2016-07-03T16:16:45.436000"
    },
    "code_folding": [
     2,
     17
    ],
    "collapsed": false
   },
   "outputs": [
    {
     "name": "stdout",
     "output_type": "stream",
     "text": [
      "Epoch 0\n",
      "Train on 40000 samples, validate on 10000 samples\n",
      "Epoch 1/1\n",
      "4s - loss: 0.1505 - val_loss: 0.0559\n",
      "Flipped 49.14 % of all elements\n",
      "Mean IOU: 0.234211369772\n",
      "Mean dist: 0.200727835348\n",
      "Mean mse: 0.0169208188335\n",
      "\n",
      "Epoch 1\n",
      "Train on 40000 samples, validate on 10000 samples\n",
      "Epoch 1/1\n",
      "4s - loss: 0.0558 - val_loss: 0.0499\n",
      "Flipped 26.935 % of all elements\n",
      "Mean IOU: 0.25961828597\n",
      "Mean dist: 0.187458868204\n",
      "Mean mse: 0.0144943950131\n",
      "\n",
      "Epoch 2\n",
      "Train on 40000 samples, validate on 10000 samples\n",
      "Epoch 1/1\n",
      "4s - loss: 0.0501 - val_loss: 0.0479\n",
      "Flipped 19.915 % of all elements\n",
      "Mean IOU: 0.285665079779\n",
      "Mean dist: 0.172386849031\n",
      "Mean mse: 0.01265891626\n",
      "\n",
      "Epoch 3\n",
      "Train on 40000 samples, validate on 10000 samples\n",
      "Epoch 1/1\n",
      "4s - loss: 0.0463 - val_loss: 0.0474\n",
      "Flipped 14.9175 % of all elements\n",
      "Mean IOU: 0.319045391304\n",
      "Mean dist: 0.157677244358\n",
      "Mean mse: 0.0111588802368\n",
      "\n",
      "Epoch 4\n",
      "Train on 40000 samples, validate on 10000 samples\n",
      "Epoch 1/1\n",
      "4s - loss: 0.0434 - val_loss: 0.0484\n",
      "Flipped 11.6025 % of all elements\n",
      "Mean IOU: 0.339965326174\n",
      "Mean dist: 0.147024843153\n",
      "Mean mse: 0.0101238561176\n",
      "\n",
      "Epoch 5\n",
      "Train on 40000 samples, validate on 10000 samples\n",
      "Epoch 1/1\n",
      "4s - loss: 0.0407 - val_loss: 0.0491\n",
      "Flipped 9.29 % of all elements\n",
      "Mean IOU: 0.361273007504\n",
      "Mean dist: 0.138836304271\n",
      "Mean mse: 0.00939302657044\n",
      "\n",
      "Epoch 6\n",
      "Train on 40000 samples, validate on 10000 samples\n",
      "Epoch 1/1\n",
      "4s - loss: 0.0384 - val_loss: 0.0500\n",
      "Flipped 8.9175 % of all elements\n",
      "Mean IOU: 0.382049353548\n",
      "Mean dist: 0.130278105575\n",
      "Mean mse: 0.00863693586602\n",
      "\n",
      "Epoch 7\n",
      "Train on 40000 samples, validate on 10000 samples\n",
      "Epoch 1/1\n",
      "5s - loss: 0.0363 - val_loss: 0.0516\n",
      "Flipped 8.715 % of all elements\n",
      "Mean IOU: 0.403091562327\n",
      "Mean dist: 0.121965919527\n",
      "Mean mse: 0.00794884560706\n",
      "\n",
      "Epoch 8\n",
      "Train on 40000 samples, validate on 10000 samples\n",
      "Epoch 1/1\n",
      "5s - loss: 0.0342 - val_loss: 0.0521\n",
      "Flipped 6.5375 % of all elements\n",
      "Mean IOU: 0.423869022259\n",
      "Mean dist: 0.115522680278\n",
      "Mean mse: 0.00739532350985\n",
      "\n",
      "Epoch 9\n",
      "Train on 40000 samples, validate on 10000 samples\n",
      "Epoch 1/1\n",
      "4s - loss: 0.0325 - val_loss: 0.0533\n",
      "Flipped 5.605 % of all elements\n",
      "Mean IOU: 0.437069564205\n",
      "Mean dist: 0.110202584812\n",
      "Mean mse: 0.00698140109199\n",
      "\n",
      "Epoch 10\n",
      "Train on 40000 samples, validate on 10000 samples\n",
      "Epoch 1/1\n",
      "4s - loss: 0.0312 - val_loss: 0.0537\n",
      "Flipped 4.44 % of all elements\n",
      "Mean IOU: 0.447052615104\n",
      "Mean dist: 0.105774030778\n",
      "Mean mse: 0.00660798313925\n",
      "\n",
      "Epoch 11\n",
      "Train on 40000 samples, validate on 10000 samples\n",
      "Epoch 1/1\n",
      "5s - loss: 0.0301 - val_loss: 0.0543\n",
      "Flipped 4.27 % of all elements\n",
      "Mean IOU: 0.4546545274\n",
      "Mean dist: 0.103120491849\n",
      "Mean mse: 0.0064044459049\n",
      "\n",
      "Epoch 12\n",
      "Train on 40000 samples, validate on 10000 samples\n",
      "Epoch 1/1\n",
      "4s - loss: 0.0292 - val_loss: 0.0552\n",
      "Flipped 3.7225 % of all elements\n",
      "Mean IOU: 0.466439063163\n",
      "Mean dist: 0.0987319624991\n",
      "Mean mse: 0.00606237596082\n",
      "\n",
      "Epoch 13\n",
      "Train on 40000 samples, validate on 10000 samples\n",
      "Epoch 1/1\n",
      "4s - loss: 0.0282 - val_loss: 0.0546\n",
      "Flipped 3.765 % of all elements\n",
      "Mean IOU: 0.475150087327\n",
      "Mean dist: 0.0954913356866\n",
      "Mean mse: 0.00585377630302\n",
      "\n",
      "Epoch 14\n",
      "Train on 40000 samples, validate on 10000 samples\n",
      "Epoch 1/1\n",
      "4s - loss: 0.0276 - val_loss: 0.0558\n",
      "Flipped 2.9825 % of all elements\n",
      "Mean IOU: 0.481368471988\n",
      "Mean dist: 0.093024954116\n",
      "Mean mse: 0.00565717665834\n",
      "\n",
      "Epoch 15\n",
      "Train on 40000 samples, validate on 10000 samples\n",
      "Epoch 1/1\n",
      "5s - loss: 0.0268 - val_loss: 0.0555\n",
      "Flipped 2.7825 % of all elements\n",
      "Mean IOU: 0.485010471326\n",
      "Mean dist: 0.0922291306785\n",
      "Mean mse: 0.00555591658617\n",
      "\n",
      "Epoch 16\n",
      "Train on 40000 samples, validate on 10000 samples\n",
      "Epoch 1/1\n",
      "4s - loss: 0.0263 - val_loss: 0.0558\n",
      "Flipped 2.7025 % of all elements\n",
      "Mean IOU: 0.487686503318\n",
      "Mean dist: 0.091808391434\n",
      "Mean mse: 0.00546566474005\n",
      "\n",
      "Epoch 17\n",
      "Train on 40000 samples, validate on 10000 samples\n",
      "Epoch 1/1\n",
      "4s - loss: 0.0259 - val_loss: 0.0563\n",
      "Flipped 2.475 % of all elements\n",
      "Mean IOU: 0.492446974249\n",
      "Mean dist: 0.0890210165659\n",
      "Mean mse: 0.00527322347287\n",
      "\n",
      "Epoch 18\n",
      "Train on 40000 samples, validate on 10000 samples\n",
      "Epoch 1/1\n",
      "4s - loss: 0.0254 - val_loss: 0.0566\n",
      "Flipped 2.1925 % of all elements\n",
      "Mean IOU: 0.502135327133\n",
      "Mean dist: 0.0872392306197\n",
      "Mean mse: 0.00516366861823\n",
      "\n",
      "Epoch 19\n",
      "Train on 40000 samples, validate on 10000 samples\n",
      "Epoch 1/1\n",
      "5s - loss: 0.0249 - val_loss: 0.0565\n",
      "Flipped 2.5675 % of all elements\n",
      "Mean IOU: 0.500652044952\n",
      "Mean dist: 0.0872541219307\n",
      "Mean mse: 0.00511897637667\n",
      "\n",
      "Epoch 20\n",
      "Train on 40000 samples, validate on 10000 samples\n",
      "Epoch 1/1\n",
      "5s - loss: 0.0247 - val_loss: 0.0571\n",
      "Flipped 2.2075 % of all elements\n",
      "Mean IOU: 0.504430402018\n",
      "Mean dist: 0.0859760355258\n",
      "Mean mse: 0.00502476157059\n",
      "\n",
      "Epoch 21\n",
      "Train on 40000 samples, validate on 10000 samples\n",
      "Epoch 1/1\n",
      "5s - loss: 0.0243 - val_loss: 0.0566\n",
      "Flipped 2.2275 % of all elements\n",
      "Mean IOU: 0.505250990478\n",
      "Mean dist: 0.0851774075079\n",
      "Mean mse: 0.00493283061627\n",
      "\n",
      "Epoch 22\n",
      "Train on 40000 samples, validate on 10000 samples\n",
      "Epoch 1/1\n",
      "4s - loss: 0.0241 - val_loss: 0.0566\n",
      "Flipped 2.3075 % of all elements\n",
      "Mean IOU: 0.50436342583\n",
      "Mean dist: 0.0858150751554\n",
      "Mean mse: 0.00496472848654\n",
      "\n",
      "Epoch 23\n",
      "Train on 40000 samples, validate on 10000 samples\n",
      "Epoch 1/1\n",
      "4s - loss: 0.0239 - val_loss: 0.0574\n",
      "Flipped 2.3125 % of all elements\n",
      "Mean IOU: 0.50713262664\n",
      "Mean dist: 0.0850357065346\n",
      "Mean mse: 0.00491903417062\n",
      "\n",
      "Epoch 24\n",
      "Train on 40000 samples, validate on 10000 samples\n",
      "Epoch 1/1\n",
      "5s - loss: 0.0235 - val_loss: 0.0571\n",
      "Flipped 1.975 % of all elements\n",
      "Mean IOU: 0.512359533089\n",
      "Mean dist: 0.0837795780707\n",
      "Mean mse: 0.00482852842311\n",
      "\n",
      "Epoch 25\n",
      "Train on 40000 samples, validate on 10000 samples\n",
      "Epoch 1/1\n",
      "5s - loss: 0.0232 - val_loss: 0.0578\n",
      "Flipped 1.8675 % of all elements\n",
      "Mean IOU: 0.514593360783\n",
      "Mean dist: 0.0828985640586\n",
      "Mean mse: 0.00475285116451\n",
      "\n",
      "Epoch 26\n",
      "Train on 40000 samples, validate on 10000 samples\n",
      "Epoch 1/1\n",
      "5s - loss: 0.0230 - val_loss: 0.0574\n",
      "Flipped 2.14 % of all elements\n",
      "Mean IOU: 0.510991699079\n",
      "Mean dist: 0.0839060128803\n",
      "Mean mse: 0.00478503886858\n",
      "\n",
      "Epoch 27\n",
      "Train on 40000 samples, validate on 10000 samples\n",
      "Epoch 1/1\n",
      "5s - loss: 0.0229 - val_loss: 0.0575\n",
      "Flipped 2.22 % of all elements\n",
      "Mean IOU: 0.51510657956\n",
      "Mean dist: 0.0818881934601\n",
      "Mean mse: 0.00467044466043\n",
      "\n",
      "Epoch 28\n",
      "Train on 40000 samples, validate on 10000 samples\n",
      "Epoch 1/1\n",
      "5s - loss: 0.0227 - val_loss: 0.0572\n",
      "Flipped 2.33 % of all elements\n",
      "Mean IOU: 0.516495987137\n",
      "Mean dist: 0.0817343860442\n",
      "Mean mse: 0.00462676897481\n",
      "\n",
      "Epoch 29\n",
      "Train on 40000 samples, validate on 10000 samples\n",
      "Epoch 1/1\n",
      "5s - loss: 0.0224 - val_loss: 0.0573\n",
      "Flipped 2.1225 % of all elements\n",
      "Mean IOU: 0.520348526052\n",
      "Mean dist: 0.0804247005785\n",
      "Mean mse: 0.0045592573646\n",
      "\n",
      "Epoch 30\n",
      "Train on 40000 samples, validate on 10000 samples\n",
      "Epoch 1/1\n",
      "4s - loss: 0.0223 - val_loss: 0.0574\n",
      "Flipped 2.0475 % of all elements\n",
      "Mean IOU: 0.525227191345\n",
      "Mean dist: 0.0801656375978\n",
      "Mean mse: 0.0045323463172\n",
      "\n",
      "Epoch 31\n",
      "Train on 40000 samples, validate on 10000 samples\n",
      "Epoch 1/1\n",
      "4s - loss: 0.0222 - val_loss: 0.0576\n",
      "Flipped 2.0175 % of all elements\n",
      "Mean IOU: 0.52382312297\n",
      "Mean dist: 0.0798413737855\n",
      "Mean mse: 0.00447079162116\n",
      "\n",
      "Epoch 32\n",
      "Train on 40000 samples, validate on 10000 samples\n",
      "Epoch 1/1\n",
      "5s - loss: 0.0221 - val_loss: 0.0576\n",
      "Flipped 2.0425 % of all elements\n",
      "Mean IOU: 0.524894045705\n",
      "Mean dist: 0.0790919121457\n",
      "Mean mse: 0.00445891213109\n",
      "\n",
      "Epoch 33\n",
      "Train on 40000 samples, validate on 10000 samples\n",
      "Epoch 1/1\n",
      "5s - loss: 0.0218 - val_loss: 0.0577\n",
      "Flipped 1.725 % of all elements\n",
      "Mean IOU: 0.530355194819\n",
      "Mean dist: 0.0784302623929\n",
      "Mean mse: 0.00441229688292\n",
      "\n",
      "Epoch 34\n",
      "Train on 40000 samples, validate on 10000 samples\n",
      "Epoch 1/1\n",
      "5s - loss: 0.0216 - val_loss: 0.0582\n",
      "Flipped 1.885 % of all elements\n",
      "Mean IOU: 0.522705077851\n",
      "Mean dist: 0.0795871824053\n",
      "Mean mse: 0.00443051811762\n",
      "\n",
      "Epoch 35\n",
      "Train on 40000 samples, validate on 10000 samples\n",
      "Epoch 1/1\n",
      "8s - loss: 0.0215 - val_loss: 0.0584\n",
      "Flipped 1.8325 % of all elements\n",
      "Mean IOU: 0.528942697463\n",
      "Mean dist: 0.0785589417474\n",
      "Mean mse: 0.00439488247914\n",
      "\n",
      "Epoch 36\n",
      "Train on 40000 samples, validate on 10000 samples\n",
      "Epoch 1/1\n",
      "5s - loss: 0.0216 - val_loss: 0.0581\n",
      "Flipped 1.9875 % of all elements\n",
      "Mean IOU: 0.526685062976\n",
      "Mean dist: 0.0782153995256\n",
      "Mean mse: 0.00437267973193\n",
      "\n",
      "Epoch 37\n",
      "Train on 40000 samples, validate on 10000 samples\n",
      "Epoch 1/1\n",
      "5s - loss: 0.0213 - val_loss: 0.0586\n",
      "Flipped 1.86 % of all elements\n",
      "Mean IOU: 0.530983843794\n",
      "Mean dist: 0.0772202077916\n",
      "Mean mse: 0.00428697422964\n",
      "\n",
      "Epoch 38\n",
      "Train on 40000 samples, validate on 10000 samples\n",
      "Epoch 1/1\n",
      "5s - loss: 0.0213 - val_loss: 0.0580\n",
      "Flipped 1.63 % of all elements\n",
      "Mean IOU: 0.531960873355\n",
      "Mean dist: 0.0774240931569\n",
      "Mean mse: 0.00428354157969\n",
      "\n",
      "Epoch 39\n",
      "Train on 40000 samples, validate on 10000 samples\n",
      "Epoch 1/1\n",
      "6s - loss: 0.0211 - val_loss: 0.0588\n",
      "Flipped 1.8725 % of all elements\n",
      "Mean IOU: 0.532681479934\n",
      "Mean dist: 0.0770623142474\n",
      "Mean mse: 0.00424637828159\n",
      "\n",
      "Epoch 40\n",
      "Train on 40000 samples, validate on 10000 samples\n",
      "Epoch 1/1\n",
      "5s - loss: 0.0210 - val_loss: 0.0578\n",
      "Flipped 1.95 % of all elements\n",
      "Mean IOU: 0.533979040391\n",
      "Mean dist: 0.077404630551\n",
      "Mean mse: 0.00425770390895\n",
      "\n",
      "Epoch 41\n",
      "Train on 40000 samples, validate on 10000 samples\n",
      "Epoch 1/1\n",
      "4s - loss: 0.0209 - val_loss: 0.0584\n",
      "Flipped 1.8525 % of all elements\n",
      "Mean IOU: 0.534955115217\n",
      "Mean dist: 0.0765883346279\n",
      "Mean mse: 0.00421227174575\n",
      "\n",
      "Epoch 42\n",
      "Train on 40000 samples, validate on 10000 samples\n",
      "Epoch 1/1\n",
      "5s - loss: 0.0209 - val_loss: 0.0581\n",
      "Flipped 1.805 % of all elements\n",
      "Mean IOU: 0.534320987971\n",
      "Mean dist: 0.0765066308489\n",
      "Mean mse: 0.00422701742572\n",
      "\n",
      "Epoch 43\n",
      "Train on 40000 samples, validate on 10000 samples\n",
      "Epoch 1/1\n",
      "4s - loss: 0.0207 - val_loss: 0.0585\n",
      "Flipped 1.8825 % of all elements\n",
      "Mean IOU: 0.535369959754\n",
      "Mean dist: 0.0763960186563\n",
      "Mean mse: 0.00418211300553\n",
      "\n",
      "Epoch 44\n",
      "Train on 40000 samples, validate on 10000 samples\n",
      "Epoch 1/1\n",
      "6s - loss: 0.0205 - val_loss: 0.0584\n",
      "Flipped 1.9625 % of all elements\n",
      "Mean IOU: 0.538506318522\n",
      "Mean dist: 0.0758882617551\n",
      "Mean mse: 0.00415130026949\n",
      "\n",
      "Epoch 45\n",
      "Train on 40000 samples, validate on 10000 samples\n",
      "Epoch 1/1\n",
      "4s - loss: 0.0204 - val_loss: 0.0589\n",
      "Flipped 1.88 % of all elements\n",
      "Mean IOU: 0.536553771922\n",
      "Mean dist: 0.0763552270766\n",
      "Mean mse: 0.00416935595785\n",
      "\n",
      "Epoch 46\n",
      "Train on 40000 samples, validate on 10000 samples\n",
      "Epoch 1/1\n",
      "6s - loss: 0.0204 - val_loss: 0.0578\n",
      "Flipped 1.69 % of all elements\n",
      "Mean IOU: 0.537272648614\n",
      "Mean dist: 0.0758712798596\n",
      "Mean mse: 0.00414251295481\n",
      "\n",
      "Epoch 47\n",
      "Train on 40000 samples, validate on 10000 samples\n",
      "Epoch 1/1\n",
      "4s - loss: 0.0203 - val_loss: 0.0584\n",
      "Flipped 1.825 % of all elements\n",
      "Mean IOU: 0.541206450914\n",
      "Mean dist: 0.0750306102421\n",
      "Mean mse: 0.0040954257016\n",
      "\n",
      "Epoch 48\n",
      "Train on 40000 samples, validate on 10000 samples\n",
      "Epoch 1/1\n",
      "5s - loss: 0.0203 - val_loss: 0.0581\n",
      "Flipped 1.91 % of all elements\n",
      "Mean IOU: 0.534911588734\n",
      "Mean dist: 0.0765635474\n",
      "Mean mse: 0.00412608518256\n",
      "\n",
      "Epoch 49\n",
      "Train on 40000 samples, validate on 10000 samples\n",
      "Epoch 1/1\n",
      "4s - loss: 0.0202 - val_loss: 0.0583\n",
      "Flipped 1.9 % of all elements\n",
      "Mean IOU: 0.535998163817\n",
      "Mean dist: 0.0759283639398\n",
      "Mean mse: 0.00412869736146\n",
      "\n"
     ]
    }
   ],
   "source": [
    "# Flip bboxes during training.\n",
    "# Note: The validation loss is always quite big here because we don't flip the bounding boxes for the validation data. \n",
    "def IOU(bbox1, bbox2):\n",
    "    '''Calculate overlap between two bounding boxes [x, y, w, h] as the area of intersection over the area of unity'''\n",
    "    x1, y1, w1, h1 = bbox1[0], bbox1[1], bbox1[2], bbox1[3]  # TODO: Check if its more performant if tensor elements are accessed directly below.\n",
    "    x2, y2, w2, h2 = bbox2[0], bbox2[1], bbox2[2], bbox2[3]\n",
    "\n",
    "    w_I = min(x1 + w1, x2 + w2) - max(x1, x2)\n",
    "    h_I = min(y1 + h1, y2 + h2) - max(y1, y2)\n",
    "    if w_I <= 0 or h_I <= 0:  # no overlap\n",
    "        return 0\n",
    "    I = w_I * h_I\n",
    "\n",
    "    U = w1 * h1 + w2 * h2 - I\n",
    "\n",
    "    return I / U\n",
    "\n",
    "def dist(bbox1, bbox2):\n",
    "    return np.sqrt(np.sum(np.square(bbox1[:2] - bbox2[:2])))\n",
    "\n",
    "num_epochs_flipping = 50\n",
    "num_epochs_no_flipping = 0  # has no significant effect\n",
    "flipped_train_y = np.array(train_y)\n",
    "flipped = np.zeros((len(flipped_train_y), num_epochs_flipping + num_epochs_no_flipping))\n",
    "ious_epoch = np.zeros((len(flipped_train_y), num_epochs_flipping + num_epochs_no_flipping))\n",
    "dists_epoch = np.zeros((len(flipped_train_y), num_epochs_flipping + num_epochs_no_flipping))\n",
    "mses_epoch = np.zeros((len(flipped_train_y), num_epochs_flipping + num_epochs_no_flipping))\n",
    "\n",
    "# TODO: Calculate ious directly for all samples (using slices of the array pred_y for x, y, w, h).\n",
    "for epoch in range(num_epochs_flipping):\n",
    "    print 'Epoch', epoch\n",
    "    model.fit(train_X, flipped_train_y, nb_epoch=1, validation_data=(test_X, test_y), verbose=2)\n",
    "    pred_y = model.predict(train_X)\n",
    "\n",
    "    for sample, (pred, exp) in enumerate(zip(pred_y, flipped_train_y)):\n",
    "        \n",
    "        # TODO: Make this simpler.\n",
    "        pred = pred.reshape(num_objects, -1)\n",
    "        exp = exp.reshape(num_objects, -1)\n",
    "        \n",
    "        pred_bboxes = pred[:, :4]\n",
    "        exp_bboxes = exp[:, :4]\n",
    "        \n",
    "        # TODO: Try flipping array and see if results differ.\n",
    "        ious = np.zeros((num_objects, num_objects))\n",
    "        dists = np.zeros((num_objects, num_objects))\n",
    "        mses = np.zeros((num_objects, num_objects))\n",
    "        for i, exp_bbox in enumerate(exp_bboxes):\n",
    "            for j, pred_bbox in enumerate(pred_bboxes):\n",
    "                ious[i, j] = IOU(exp_bbox, pred_bbox)\n",
    "                dists[i, j] = dist(exp_bbox, pred_bbox)\n",
    "                mses[i, j] = np.mean(np.square(exp_bbox - pred_bbox))\n",
    "                \n",
    "        new_order = np.zeros(num_objects, dtype=int)\n",
    "        \n",
    "        for i in range(num_objects):\n",
    "            # Find pred and exp bbox with maximum iou and assign them to each other (i.e. switch the positions of the exp bboxes in y).\n",
    "            ind_exp_bbox, ind_pred_bbox = np.unravel_index(mses.argmin(), mses.shape)\n",
    "            ious_epoch[sample, epoch] += ious[ind_exp_bbox, ind_pred_bbox]\n",
    "            dists_epoch[sample, epoch] += dists[ind_exp_bbox, ind_pred_bbox]\n",
    "            mses_epoch[sample, epoch] += mses[ind_exp_bbox, ind_pred_bbox]\n",
    "            mses[ind_exp_bbox] = 1000000#-1  # set iou of assigned bboxes to -1, so they don't get assigned again\n",
    "            mses[:, ind_pred_bbox] = 10000000#-1\n",
    "            new_order[ind_pred_bbox] = ind_exp_bbox\n",
    "        \n",
    "        flipped_train_y[sample] = exp[new_order].flatten()\n",
    "        \n",
    "        flipped[sample, epoch] = 1. - np.mean(new_order == np.arange(num_objects, dtype=int))#np.array_equal(new_order, np.arange(num_objects, dtype=int))  # TODO: Change this to reflect the number of flips.\n",
    "        ious_epoch[sample, epoch] /= num_objects\n",
    "        dists_epoch[sample, epoch] /= num_objects\n",
    "        mses_epoch[sample, epoch] /= num_objects\n",
    "        \n",
    "            \n",
    "    print 'Flipped {} % of all elements'.format(np.mean(flipped[:, epoch]) * 100.)\n",
    "    print 'Mean IOU: {}'.format(np.mean(ious_epoch[:, epoch]))\n",
    "    print 'Mean dist: {}'.format(np.mean(dists_epoch[:, epoch]))\n",
    "    print 'Mean mse: {}'.format(np.mean(mses_epoch[:, epoch]))\n",
    "    print\n",
    "    \n",
    "# print '------------------------------------'\n",
    "# print 'Training now without flipping bboxes'\n",
    "# print '------------------------------------'\n",
    "    \n",
    "# for epoch in range(num_epochs_flipping, num_epochs_flipping + num_epochs_no_flipping):\n",
    "#     print 'Epoch', epoch\n",
    "#     model.fit(train_X, flipped_train_y, nb_epoch=1, validation_data=(test_X, test_y), verbose=2)\n",
    "#     pred_y = model.predict(train_X)\n",
    "\n",
    "#     # Calculate iou/dist, but don't flip.\n",
    "#     for sample, (pred_bboxes, exp_bboxes) in enumerate(zip(pred_y, flipped_train_y)):\n",
    "        \n",
    "#         pred_bboxes = pred_bboxes.reshape(num_objects, -1)\n",
    "#         exp_bboxes = exp_bboxes.reshape(num_objects, -1)        \n",
    "        \n",
    "#         for exp_bbox, pred_bbox in zip(exp_bboxes, pred_bboxes):\n",
    "#             ious_epoch[sample, epoch] += IOU(exp_bbox, pred_bbox)\n",
    "#             dists_epoch[sample, epoch] += dist(exp_bbox, pred_bbox)\n",
    "#             mses_epoch[sample, epoch] += np.mean(np.square(exp_bbox - pred_bbox))\n",
    "            \n",
    "#         ious_epoch[sample, epoch] /= num_objects\n",
    "#         dists_epoch[sample, epoch] /= num_objects \n",
    "#         mses_epoch[sample, epoch] /= num_objects \n",
    "            \n",
    "# #     print 'Flipped {} % of all elements'.format(np.mean(flipped[:, epoch]) * 100.)\n",
    "#     print 'Mean IOU: {}'.format(np.mean(ious_epoch[:, epoch]))\n",
    "#     print 'Mean dist: {}'.format(np.mean(dists_epoch[:, epoch]))\n",
    "#     print 'Mean mse: {}'.format(np.mean(mses_epoch[:, epoch]))\n",
    "#     print\n",
    "    \n",
    "# TODO: Calculate IOU and dist for validation data during training."
   ]
  },
  {
   "cell_type": "code",
   "execution_count": 38,
   "metadata": {
    "ExecuteTime": {
     "end_time": "2016-07-03T16:32:11.172000",
     "start_time": "2016-07-03T16:32:07.209000"
    },
    "collapsed": false
   },
   "outputs": [
    {
     "data": {
      "text/plain": [
       "<matplotlib.text.Text at 0x16edc978>"
      ]
     },
     "execution_count": 38,
     "metadata": {},
     "output_type": "execute_result"
    },
    {
     "data": {
      "image/png": "[encoded data removed]",
      "text/plain": [
       "<matplotlib.figure.Figure at 0x16f18fd0>"
      ]
     },
     "metadata": {},
     "output_type": "display_data"
    }
   ],
   "source": [
    "plt.pcolor(flipped[:1000], cmap='Greys', vmax=1.)\n",
    "# plt.axvline(num_epochs_flipping, c='r')\n",
    "plt.xlabel('Epoch')\n",
    "plt.ylabel('Training sample')"
   ]
  },
  {
   "cell_type": "code",
   "execution_count": 39,
   "metadata": {
    "ExecuteTime": {
     "end_time": "2016-07-03T16:32:15.670000",
     "start_time": "2016-07-03T16:32:15.223000"
    },
    "collapsed": false
   },
   "outputs": [
    {
     "data": {
      "text/plain": [
       "(0, 1)"
      ]
     },
     "execution_count": 39,
     "metadata": {},
     "output_type": "execute_result"
    },
    {
     "data": {
      "image/png": "[encoded data removed]",
      "text/plain": [
       "<matplotlib.figure.Figure at 0x15f1f438>"
      ]
     },
     "metadata": {},
     "output_type": "display_data"
    }
   ],
   "source": [
    "mean_ious_epoch = np.mean(ious_epoch, axis=0)\n",
    "mean_dists_epoch = np.mean(dists_epoch, axis=0)\n",
    "mean_mses_epoch = np.mean(mses_epoch, axis=0)\n",
    "plt.plot(mean_ious_epoch, label='Mean IOU')  # between predicted and assigned true bboxes\n",
    "plt.plot(mean_dists_epoch, label='Mean distance')  # relative to image size\n",
    "plt.plot(mean_mses_epoch, label='Mean mse')  # relative to image size\n",
    "plt.annotate(np.round(np.max(mean_ious_epoch), 3), (len(mean_ious_epoch)-1, mean_ious_epoch[-1]+0.03), horizontalalignment='right', color='b')\n",
    "plt.annotate(np.round(np.min(mean_dists_epoch), 3), (len(mean_dists_epoch)-1, mean_dists_epoch[-1]+0.03), horizontalalignment='right', color='g')\n",
    "plt.annotate(np.round(np.min(mean_mses_epoch), 3), (len(mean_mses_epoch)-1, mean_mses_epoch[-1]+0.03), horizontalalignment='right', color='r')\n",
    "# plt.axvline(num_epochs_flipping, c='r')\n",
    "plt.xlabel('Epoch')\n",
    "plt.legend()\n",
    "plt.ylim(0, 1)\n",
    "\n",
    "# plt.savefig('plots/bw-multiple-rectangles-mse.png', dpi=300)"
   ]
  },
  {
   "cell_type": "code",
   "execution_count": 40,
   "metadata": {
    "ExecuteTime": {
     "end_time": "2016-07-03T16:32:21.325000",
     "start_time": "2016-07-03T16:32:20.874000"
    },
    "collapsed": false
   },
   "outputs": [
    {
     "data": {
      "text/plain": [
       "((10000L, 2L, 4L), (10000L, 2L, 1L))"
      ]
     },
     "execution_count": 40,
     "metadata": {},
     "output_type": "execute_result"
    }
   ],
   "source": [
    "pred_y = model.predict(test_X)\n",
    "pred_y = pred_y.reshape(len(pred_y), num_objects, -1)\n",
    "pred_bboxes = pred_y[..., :4] * img_size\n",
    "pred_shapes = pred_y[..., 4:5]\n",
    "pred_bboxes.shape, pred_shapes.shape"
   ]
  },
  {
   "cell_type": "code",
   "execution_count": 49,
   "metadata": {
    "ExecuteTime": {
     "end_time": "2016-07-03T16:33:28.201000",
     "start_time": "2016-07-03T16:33:26.046000"
    },
    "collapsed": false
   },
   "outputs": [
    {
     "data": {
      "image/png": "[encoded data removed]",
      "text/plain": [
       "<matplotlib.figure.Figure at 0x272ad2b0>"
      ]
     },
     "metadata": {},
     "output_type": "display_data"
    }
   ],
   "source": [
    "plt.figure(figsize=(16, 8))\n",
    "for i_subplot in range(1, 9):\n",
    "    plt.subplot(2, 4, i_subplot)\n",
    "    i = np.random.randint(len(test_X))\n",
    "    plt.imshow(test_imgs[i].T, cmap='Greys', interpolation='none', origin='lower', extent=[0, img_size, 0, img_size])\n",
    "    for pred_bbox, exp_bbox, pred_shape in zip(pred_bboxes[i], test_bboxes[i], pred_shapes[i]):\n",
    "        plt.gca().add_patch(matplotlib.patches.Rectangle((pred_bbox[0], pred_bbox[1]), pred_bbox[2], pred_bbox[3], ec='r' if pred_shape[0] <= 0.5 else 'y', fc='none'))\n",
    "        # TODO: Calculate max IOU with all expected bounding boxes.\n",
    "#         plt.annotate('IOU: {:.2f}'.format(IOU(pred_bbox, exp_bbox)), (pred_bbox[0], pred_bbox[1]+pred_bbox[3]+0.4), color='r')"
   ]
  },
  {
   "cell_type": "code",
   "execution_count": null,
   "metadata": {
    "collapsed": true
   },
   "outputs": [],
   "source": []
  }
 ],
 "metadata": {
  "kernelspec": {
   "display_name": "Python 2",
   "language": "python",
   "name": "python2"
  },
  "language_info": {
   "codemirror_mode": {
    "name": "ipython",
    "version": 2
   },
   "file_extension": ".py",
   "mimetype": "text/x-python",
   "name": "python",
   "nbconvert_exporter": "python",
   "pygments_lexer": "ipython2",
   "version": "2.7.11"
  }
 },
 "nbformat": 4,
 "nbformat_minor": 0
}
